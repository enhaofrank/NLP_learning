{
 "cells": [
  {
   "cell_type": "markdown",
   "metadata": {
    "collapsed": false
   },
   "source": [
    "# 使用PaddleNLP语义预训练模型ERNIE完成快递单信息抽取\n",
    "\n",
    "命名实体识别是NLP中一项非常基础的任务，是信息提取、问答系统、句法分析、机器翻译等众多NLP任务的重要基础工具。命名实体识别的准确度，决定了下游任务的效果，是NLP中的一个基础问题。在NER任务提供了两种解决方案，一类LSTM/GRU + CRF，通过RNN类的模型来抽取底层文本的信息，而CRF(条件随机场)模型来学习底层Token之间的联系；另外一类是通过预训练模型，例如ERNIE，BERT模型，直接来预测Token的标签信息。\n",
    "\n",
    "本项目将演示如何使用PaddleNLP语义预训练模型ERNIE完成从快递单中抽取姓名、电话、省、市、区、详细地址等内容，形成结构化信息。辅助物流行业从业者进行有效信息的提取，从而降低客户填单的成本。"
   ]
  },
  {
   "cell_type": "markdown",
   "metadata": {
    "collapsed": false
   },
   "source": [
    "在2017年之前，工业界和学术界对文本处理依赖于序列模型[Recurrent Neural Network (RNN)](https://baike.baidu.com/item/%E5%BE%AA%E7%8E%AF%E7%A5%9E%E7%BB%8F%E7%BD%91%E7%BB%9C/23199490?fromtitle=RNN&fromid=5707183&fr=aladdin).\n",
    "\n",
    "<p align=\"center\">\n",
    "<img src=\"http://colah.github.io/posts/2015-09-NN-Types-FP/img/RNN-general.png\" width=\"40%\" height=\"30%\"> <br />\n",
    "</p><br><center>图1：RNN示意图</center></br>\n",
    "\n",
    "[基于BiGRU+CRF的快递单信息抽取](https://aistudio.baidu.com/aistudio/projectdetail/1317771)项目介绍了如何使用序列模型完成快递单信息抽取任务。\n",
    "<br>\n",
    "\n",
    "近年来随着深度学习的发展，模型参数的数量飞速增长。为了训练这些参数，需要更大的数据集来避免过拟合。然而，对于大部分NLP任务来说，构建大规模的标注数据集非常困难（成本过高），特别是对于句法和语义相关的任务。相比之下，大规模的未标注语料库的构建则相对容易。为了利用这些数据，我们可以先从其中学习到一个好的表示，再将这些表示应用到其他任务中。最近的研究表明，基于大规模未标注语料库的预训练模型（Pretrained Models, PTM) 在NLP任务上取得了很好的表现。\n",
    "\n",
    "近年来，大量的研究表明基于大型语料库的预训练模型（Pretrained Models, PTM）可以学习通用的语言表示，有利于下游NLP任务，同时能够避免从零开始训练模型。随着计算能力的不断提高，深度模型的出现（即 Transformer）和训练技巧的增强使得 PTM 不断发展，由浅变深。\n",
    "\n",
    "\n",
    "<p align=\"center\">\n",
    "<img src=\"https://ai-studio-static-online.cdn.bcebos.com/327f44ff3ed24493adca5ddc4dc24bf61eebe67c84a6492f872406f464fde91e\" width=\"60%\" height=\"50%\"> <br />\n",
    "</p><br><center>图2：预训练模型一览，图片来源于：https://github.com/thunlp/PLMpapers</center></br>\n",
    "                                                                                                                             \n",
    "本示例展示了以ERNIE([Enhanced Representation through Knowledge Integration](https://arxiv.org/pdf/1904.09223))为代表的预训练模型如何Finetune完成序列标注任务。"
   ]
  },
  {
   "cell_type": "markdown",
   "metadata": {
    "collapsed": false
   },
   "source": [
    "安装PaddleNLP，在此之前可使用如下命令安装。"
   ]
  },
  {
   "cell_type": "code",
   "execution_count": 2,
   "metadata": {
    "collapsed": false
   },
   "outputs": [
    {
     "name": "stdout",
     "output_type": "stream",
     "text": [
      "Looking in indexes: https://mirror.baidu.com/pypi/simple/\n",
      "Requirement already up-to-date: paddlenlp in /opt/conda/envs/python35-paddle120-env/lib/python3.7/site-packages (2.0.4)\n",
      "Requirement already satisfied, skipping upgrade: jieba in /opt/conda/envs/python35-paddle120-env/lib/python3.7/site-packages (from paddlenlp) (0.42.1)\n",
      "Requirement already satisfied, skipping upgrade: h5py in /opt/conda/envs/python35-paddle120-env/lib/python3.7/site-packages (from paddlenlp) (2.9.0)\n",
      "Requirement already satisfied, skipping upgrade: colorama in /opt/conda/envs/python35-paddle120-env/lib/python3.7/site-packages (from paddlenlp) (0.4.4)\n",
      "Requirement already satisfied, skipping upgrade: visualdl in /opt/conda/envs/python35-paddle120-env/lib/python3.7/site-packages (from paddlenlp) (2.1.1)\n",
      "Requirement already satisfied, skipping upgrade: multiprocess in /opt/conda/envs/python35-paddle120-env/lib/python3.7/site-packages (from paddlenlp) (0.70.11.1)\n",
      "Requirement already satisfied, skipping upgrade: seqeval in /opt/conda/envs/python35-paddle120-env/lib/python3.7/site-packages (from paddlenlp) (1.2.2)\n",
      "Requirement already satisfied, skipping upgrade: colorlog in /opt/conda/envs/python35-paddle120-env/lib/python3.7/site-packages (from paddlenlp) (4.1.0)\n",
      "Requirement already satisfied, skipping upgrade: six in /opt/conda/envs/python35-paddle120-env/lib/python3.7/site-packages (from h5py->paddlenlp) (1.15.0)\n",
      "Requirement already satisfied, skipping upgrade: numpy>=1.7 in /opt/conda/envs/python35-paddle120-env/lib/python3.7/site-packages (from h5py->paddlenlp) (1.20.3)\n",
      "Requirement already satisfied, skipping upgrade: shellcheck-py in /opt/conda/envs/python35-paddle120-env/lib/python3.7/site-packages (from visualdl->paddlenlp) (0.7.1.1)\n",
      "Requirement already satisfied, skipping upgrade: protobuf>=3.11.0 in /opt/conda/envs/python35-paddle120-env/lib/python3.7/site-packages (from visualdl->paddlenlp) (3.14.0)\n",
      "Requirement already satisfied, skipping upgrade: Pillow>=7.0.0 in /opt/conda/envs/python35-paddle120-env/lib/python3.7/site-packages (from visualdl->paddlenlp) (7.1.2)\n",
      "Requirement already satisfied, skipping upgrade: pre-commit in /opt/conda/envs/python35-paddle120-env/lib/python3.7/site-packages (from visualdl->paddlenlp) (1.21.0)\n",
      "Requirement already satisfied, skipping upgrade: requests in /opt/conda/envs/python35-paddle120-env/lib/python3.7/site-packages (from visualdl->paddlenlp) (2.22.0)\n",
      "Requirement already satisfied, skipping upgrade: flake8>=3.7.9 in /opt/conda/envs/python35-paddle120-env/lib/python3.7/site-packages (from visualdl->paddlenlp) (3.8.2)\n",
      "Requirement already satisfied, skipping upgrade: flask>=1.1.1 in /opt/conda/envs/python35-paddle120-env/lib/python3.7/site-packages (from visualdl->paddlenlp) (1.1.1)\n",
      "Requirement already satisfied, skipping upgrade: Flask-Babel>=1.0.0 in /opt/conda/envs/python35-paddle120-env/lib/python3.7/site-packages (from visualdl->paddlenlp) (1.0.0)\n",
      "Requirement already satisfied, skipping upgrade: bce-python-sdk in /opt/conda/envs/python35-paddle120-env/lib/python3.7/site-packages (from visualdl->paddlenlp) (0.8.53)\n",
      "Requirement already satisfied, skipping upgrade: dill>=0.3.3 in /opt/conda/envs/python35-paddle120-env/lib/python3.7/site-packages (from multiprocess->paddlenlp) (0.3.3)\n",
      "Requirement already satisfied, skipping upgrade: scikit-learn>=0.21.3 in /opt/conda/envs/python35-paddle120-env/lib/python3.7/site-packages (from seqeval->paddlenlp) (0.24.2)\n",
      "Requirement already satisfied, skipping upgrade: cfgv>=2.0.0 in /opt/conda/envs/python35-paddle120-env/lib/python3.7/site-packages (from pre-commit->visualdl->paddlenlp) (2.0.1)\n",
      "Requirement already satisfied, skipping upgrade: pyyaml in /opt/conda/envs/python35-paddle120-env/lib/python3.7/site-packages (from pre-commit->visualdl->paddlenlp) (5.1.2)\n",
      "Requirement already satisfied, skipping upgrade: nodeenv>=0.11.1 in /opt/conda/envs/python35-paddle120-env/lib/python3.7/site-packages (from pre-commit->visualdl->paddlenlp) (1.3.4)\n",
      "Requirement already satisfied, skipping upgrade: toml in /opt/conda/envs/python35-paddle120-env/lib/python3.7/site-packages (from pre-commit->visualdl->paddlenlp) (0.10.0)\n",
      "Requirement already satisfied, skipping upgrade: virtualenv>=15.2 in /opt/conda/envs/python35-paddle120-env/lib/python3.7/site-packages (from pre-commit->visualdl->paddlenlp) (16.7.9)\n",
      "Requirement already satisfied, skipping upgrade: importlib-metadata; python_version < \"3.8\" in /opt/conda/envs/python35-paddle120-env/lib/python3.7/site-packages (from pre-commit->visualdl->paddlenlp) (0.23)\n",
      "Requirement already satisfied, skipping upgrade: identify>=1.0.0 in /opt/conda/envs/python35-paddle120-env/lib/python3.7/site-packages (from pre-commit->visualdl->paddlenlp) (1.4.10)\n",
      "Requirement already satisfied, skipping upgrade: aspy.yaml in /opt/conda/envs/python35-paddle120-env/lib/python3.7/site-packages (from pre-commit->visualdl->paddlenlp) (1.3.0)\n",
      "Requirement already satisfied, skipping upgrade: urllib3!=1.25.0,!=1.25.1,<1.26,>=1.21.1 in /opt/conda/envs/python35-paddle120-env/lib/python3.7/site-packages (from requests->visualdl->paddlenlp) (1.25.6)\n",
      "Requirement already satisfied, skipping upgrade: idna<2.9,>=2.5 in /opt/conda/envs/python35-paddle120-env/lib/python3.7/site-packages (from requests->visualdl->paddlenlp) (2.8)\n",
      "Requirement already satisfied, skipping upgrade: certifi>=2017.4.17 in /opt/conda/envs/python35-paddle120-env/lib/python3.7/site-packages (from requests->visualdl->paddlenlp) (2019.9.11)\n",
      "Requirement already satisfied, skipping upgrade: chardet<3.1.0,>=3.0.2 in /opt/conda/envs/python35-paddle120-env/lib/python3.7/site-packages (from requests->visualdl->paddlenlp) (3.0.4)\n",
      "Requirement already satisfied, skipping upgrade: pycodestyle<2.7.0,>=2.6.0a1 in /opt/conda/envs/python35-paddle120-env/lib/python3.7/site-packages (from flake8>=3.7.9->visualdl->paddlenlp) (2.6.0)\n",
      "Requirement already satisfied, skipping upgrade: pyflakes<2.3.0,>=2.2.0 in /opt/conda/envs/python35-paddle120-env/lib/python3.7/site-packages (from flake8>=3.7.9->visualdl->paddlenlp) (2.2.0)\n",
      "Requirement already satisfied, skipping upgrade: mccabe<0.7.0,>=0.6.0 in /opt/conda/envs/python35-paddle120-env/lib/python3.7/site-packages (from flake8>=3.7.9->visualdl->paddlenlp) (0.6.1)\n",
      "Requirement already satisfied, skipping upgrade: itsdangerous>=0.24 in /opt/conda/envs/python35-paddle120-env/lib/python3.7/site-packages (from flask>=1.1.1->visualdl->paddlenlp) (1.1.0)\n",
      "Requirement already satisfied, skipping upgrade: click>=5.1 in /opt/conda/envs/python35-paddle120-env/lib/python3.7/site-packages (from flask>=1.1.1->visualdl->paddlenlp) (7.0)\n",
      "Requirement already satisfied, skipping upgrade: Werkzeug>=0.15 in /opt/conda/envs/python35-paddle120-env/lib/python3.7/site-packages (from flask>=1.1.1->visualdl->paddlenlp) (0.16.0)\n",
      "Requirement already satisfied, skipping upgrade: Jinja2>=2.10.1 in /opt/conda/envs/python35-paddle120-env/lib/python3.7/site-packages (from flask>=1.1.1->visualdl->paddlenlp) (2.10.1)\n",
      "Requirement already satisfied, skipping upgrade: Babel>=2.3 in /opt/conda/envs/python35-paddle120-env/lib/python3.7/site-packages (from Flask-Babel>=1.0.0->visualdl->paddlenlp) (2.8.0)\n",
      "Requirement already satisfied, skipping upgrade: pytz in /opt/conda/envs/python35-paddle120-env/lib/python3.7/site-packages (from Flask-Babel>=1.0.0->visualdl->paddlenlp) (2019.3)\n",
      "Requirement already satisfied, skipping upgrade: future>=0.6.0 in /opt/conda/envs/python35-paddle120-env/lib/python3.7/site-packages (from bce-python-sdk->visualdl->paddlenlp) (0.18.0)\n",
      "Requirement already satisfied, skipping upgrade: pycryptodome>=3.8.0 in /opt/conda/envs/python35-paddle120-env/lib/python3.7/site-packages (from bce-python-sdk->visualdl->paddlenlp) (3.9.9)\n",
      "Requirement already satisfied, skipping upgrade: joblib>=0.11 in /opt/conda/envs/python35-paddle120-env/lib/python3.7/site-packages (from scikit-learn>=0.21.3->seqeval->paddlenlp) (0.14.1)\n",
      "Requirement already satisfied, skipping upgrade: scipy>=0.19.1 in /opt/conda/envs/python35-paddle120-env/lib/python3.7/site-packages (from scikit-learn>=0.21.3->seqeval->paddlenlp) (1.6.3)\n",
      "Requirement already satisfied, skipping upgrade: threadpoolctl>=2.0.0 in /opt/conda/envs/python35-paddle120-env/lib/python3.7/site-packages (from scikit-learn>=0.21.3->seqeval->paddlenlp) (2.1.0)\n",
      "Requirement already satisfied, skipping upgrade: zipp>=0.5 in /opt/conda/envs/python35-paddle120-env/lib/python3.7/site-packages (from importlib-metadata; python_version < \"3.8\"->pre-commit->visualdl->paddlenlp) (0.6.0)\n",
      "Requirement already satisfied, skipping upgrade: MarkupSafe>=0.23 in /opt/conda/envs/python35-paddle120-env/lib/python3.7/site-packages (from Jinja2>=2.10.1->flask>=1.1.1->visualdl->paddlenlp) (1.1.1)\n",
      "Requirement already satisfied, skipping upgrade: more-itertools in /opt/conda/envs/python35-paddle120-env/lib/python3.7/site-packages (from zipp>=0.5->importlib-metadata; python_version < \"3.8\"->pre-commit->visualdl->paddlenlp) (7.2.0)\n"
     ]
    }
   ],
   "source": [
    "!pip install --upgrade paddlenlp"
   ]
  },
  {
   "cell_type": "code",
   "execution_count": 3,
   "metadata": {
    "collapsed": false
   },
   "outputs": [
    {
     "name": "stdout",
     "output_type": "stream",
     "text": [
      "text_a\tlabel\r\n",
      "黑\u0002龙\u0002江\u0002省\u0002双\u0002鸭\u0002山\u0002市\u0002尖\u0002山\u0002区\u0002八\u0002马\u0002路\u0002与\u0002东\u0002平\u0002行\u0002路\u0002交\u0002叉\u0002口\u0002北\u00024\u00020\u0002米\u0002韦\u0002业\u0002涛\u00021\u00028\u00026\u00020\u00020\u00020\u00020\u00029\u00021\u00027\u00022\tA1-B\u0002A1-I\u0002A1-I\u0002A1-I\u0002A2-B\u0002A2-I\u0002A2-I\u0002A2-I\u0002A3-B\u0002A3-I\u0002A3-I\u0002A4-B\u0002A4-I\u0002A4-I\u0002A4-I\u0002A4-I\u0002A4-I\u0002A4-I\u0002A4-I\u0002A4-I\u0002A4-I\u0002A4-I\u0002A4-I\u0002A4-I\u0002A4-I\u0002A4-I\u0002P-B\u0002P-I\u0002P-I\u0002T-B\u0002T-I\u0002T-I\u0002T-I\u0002T-I\u0002T-I\u0002T-I\u0002T-I\u0002T-I\u0002T-I\u0002T-I\r\n",
      "广\u0002西\u0002壮\u0002族\u0002自\u0002治\u0002区\u0002桂\u0002林\u0002市\u0002雁\u0002山\u0002区\u0002雁\u0002山\u0002镇\u0002西\u0002龙\u0002村\u0002老\u0002年\u0002活\u0002动\u0002中\u0002心\u00021\u00027\u00026\u00021\u00020\u00023\u00024\u00028\u00028\u00028\u00028\u0002羊\u0002卓\u0002卫\tA1-B\u0002A1-I\u0002A1-I\u0002A1-I\u0002A1-I\u0002A1-I\u0002A1-I\u0002A2-B\u0002A2-I\u0002A2-I\u0002A3-B\u0002A3-I\u0002A3-I\u0002A4-B\u0002A4-I\u0002A4-I\u0002A4-I\u0002A4-I\u0002A4-I\u0002A4-I\u0002A4-I\u0002A4-I\u0002A4-I\u0002A4-I\u0002A4-I\u0002T-B\u0002T-I\u0002T-I\u0002T-I\u0002T-I\u0002T-I\u0002T-I\u0002T-I\u0002T-I\u0002T-I\u0002T-I\u0002P-B\u0002P-I\u0002P-I\r\n",
      "1\u00025\u00026\u00025\u00022\u00028\u00026\u00024\u00025\u00026\u00021\u0002河\u0002南\u0002省\u0002开\u0002封\u0002市\u0002顺\u0002河\u0002回\u0002族\u0002区\u0002顺\u0002河\u0002区\u0002公\u0002园\u0002路\u00023\u00022\u0002号\u0002赵\u0002本\u0002山\tT-B\u0002T-I\u0002T-I\u0002T-I\u0002T-I\u0002T-I\u0002T-I\u0002T-I\u0002T-I\u0002T-I\u0002T-I\u0002A1-B\u0002A1-I\u0002A1-I\u0002A2-B\u0002A2-I\u0002A2-I\u0002A3-B\u0002A3-I\u0002A3-I\u0002A3-I\u0002A3-I\u0002A4-B\u0002A4-I\u0002A4-I\u0002A4-I\u0002A4-I\u0002A4-I\u0002A4-I\u0002A4-I\u0002A4-I\u0002P-B\u0002P-I\u0002P-I\r\n",
      "河\u0002北\u0002省\u0002唐\u0002山\u0002市\u0002玉\u0002田\u0002县\u0002无\u0002终\u0002大\u0002街\u00021\u00025\u00029\u0002号\u00021\u00028\u00026\u00021\u00024\u00022\u00025\u00023\u00020\u00025\u00028\u0002尚\u0002汉\u0002生\tA1-B\u0002A1-I\u0002A1-I\u0002A2-B\u0002A2-I\u0002A2-I\u0002A3-B\u0002A3-I\u0002A3-I\u0002A4-B\u0002A4-I\u0002A4-I\u0002A4-I\u0002A4-I\u0002A4-I\u0002A4-I\u0002A4-I\u0002T-B\u0002T-I\u0002T-I\u0002T-I\u0002T-I\u0002T-I\u0002T-I\u0002T-I\u0002T-I\u0002T-I\u0002T-I\u0002P-B\u0002P-I\u0002P-I\r\n"
     ]
    }
   ],
   "source": [
    "# 下载并解压数据集\n",
    "from paddle.utils.download import get_path_from_url\n",
    "URL = \"https://paddlenlp.bj.bcebos.com/paddlenlp/datasets/waybill.tar.gz\"\n",
    "get_path_from_url(URL, \"./\")\n",
    "\n",
    "# 查看预测的数据\n",
    "!head -n 5 data/test.txt"
   ]
  },
  {
   "cell_type": "code",
   "execution_count": 4,
   "metadata": {
    "collapsed": false
   },
   "outputs": [],
   "source": [
    "from functools import partial\n",
    "\n",
    "import paddle\n",
    "from paddlenlp.datasets import MapDataset\n",
    "from paddlenlp.data import Stack, Tuple, Pad\n",
    "from paddlenlp.transformers import ErnieTokenizer, ErnieForTokenClassification\n",
    "from paddlenlp.metrics import ChunkEvaluator\n",
    "from utils import convert_example, evaluate, predict, load_dict"
   ]
  },
  {
   "cell_type": "markdown",
   "metadata": {
    "collapsed": false
   },
   "source": [
    "## 加载自定义数据集\n",
    "\n",
    "推荐使用MapDataset()自定义数据集。"
   ]
  },
  {
   "cell_type": "code",
   "execution_count": 5,
   "metadata": {
    "collapsed": false
   },
   "outputs": [],
   "source": [
    "def load_dataset(datafiles):\n",
    "    def read(data_path):\n",
    "        with open(data_path, 'r', encoding='utf-8') as fp:\n",
    "            next(fp)  # Skip header\n",
    "            for line in fp.readlines():\n",
    "                words, labels = line.strip('\\n').split('\\t')\n",
    "                words = words.split('\\002')\n",
    "                labels = labels.split('\\002')\n",
    "                yield words, labels\n",
    "\n",
    "    if isinstance(datafiles, str):\n",
    "        return MapDataset(list(read(datafiles)))\n",
    "    elif isinstance(datafiles, list) or isinstance(datafiles, tuple):\n",
    "        return [MapDataset(list(read(datafile))) for datafile in datafiles]\n",
    "\n",
    "# Create dataset, tokenizer and dataloader.\n",
    "train_ds, dev_ds, test_ds = load_dataset(datafiles=(\n",
    "        './data/train.txt', './data/dev.txt', './data/test.txt'))"
   ]
  },
  {
   "cell_type": "code",
   "execution_count": 6,
   "metadata": {
    "collapsed": false
   },
   "outputs": [
    {
     "name": "stdout",
     "output_type": "stream",
     "text": [
      "(['1', '6', '6', '2', '0', '2', '0', '0', '0', '7', '7', '宣', '荣', '嗣', '甘', '肃', '省', '白', '银', '市', '会', '宁', '县', '河', '畔', '镇', '十', '字', '街', '金', '海', '超', '市', '西', '行', '5', '0', '米'], ['T-B', 'T-I', 'T-I', 'T-I', 'T-I', 'T-I', 'T-I', 'T-I', 'T-I', 'T-I', 'T-I', 'P-B', 'P-I', 'P-I', 'A1-B', 'A1-I', 'A1-I', 'A2-B', 'A2-I', 'A2-I', 'A3-B', 'A3-I', 'A3-I', 'A4-B', 'A4-I', 'A4-I', 'A4-I', 'A4-I', 'A4-I', 'A4-I', 'A4-I', 'A4-I', 'A4-I', 'A4-I', 'A4-I', 'A4-I', 'A4-I', 'A4-I'])\n",
      "(['1', '3', '5', '5', '2', '6', '6', '4', '3', '0', '7', '姜', '骏', '炜', '云', '南', '省', '德', '宏', '傣', '族', '景', '颇', '族', '自', '治', '州', '盈', '江', '县', '平', '原', '镇', '蜜', '回', '路', '下', '段'], ['T-B', 'T-I', 'T-I', 'T-I', 'T-I', 'T-I', 'T-I', 'T-I', 'T-I', 'T-I', 'T-I', 'P-B', 'P-I', 'P-I', 'A1-B', 'A1-I', 'A1-I', 'A2-B', 'A2-I', 'A2-I', 'A2-I', 'A2-I', 'A2-I', 'A2-I', 'A2-I', 'A2-I', 'A2-I', 'A3-B', 'A3-I', 'A3-I', 'A4-B', 'A4-I', 'A4-I', 'A4-I', 'A4-I', 'A4-I', 'A4-I', 'A4-I'])\n",
      "(['内', '蒙', '古', '自', '治', '区', '赤', '峰', '市', '阿', '鲁', '科', '尔', '沁', '旗', '汉', '林', '西', '街', '路', '南', '1', '3', '7', '0', '1', '0', '8', '5', '3', '9', '0', '那', '峥'], ['A1-B', 'A1-I', 'A1-I', 'A1-I', 'A1-I', 'A1-I', 'A2-B', 'A2-I', 'A2-I', 'A3-B', 'A3-I', 'A3-I', 'A3-I', 'A3-I', 'A3-I', 'A4-B', 'A4-I', 'A4-I', 'A4-I', 'A4-I', 'A4-I', 'T-B', 'T-I', 'T-I', 'T-I', 'T-I', 'T-I', 'T-I', 'T-I', 'T-I', 'T-I', 'T-I', 'P-B', 'P-I'])\n",
      "(['广', '东', '省', '梅', '州', '市', '大', '埔', '县', '茶', '阳', '镇', '胜', '利', '路', '1', '3', '6', '0', '1', '3', '2', '8', '1', '7', '3', '张', '铱'], ['A1-B', 'A1-I', 'A1-I', 'A2-B', 'A2-I', 'A2-I', 'A3-B', 'A3-I', 'A3-I', 'A4-B', 'A4-I', 'A4-I', 'A4-I', 'A4-I', 'A4-I', 'T-B', 'T-I', 'T-I', 'T-I', 'T-I', 'T-I', 'T-I', 'T-I', 'T-I', 'T-I', 'T-I', 'P-B', 'P-I'])\n",
      "(['新', '疆', '维', '吾', '尔', '自', '治', '区', '阿', '克', '苏', '地', '区', '阿', '克', '苏', '市', '步', '行', '街', '1', '0', '号', '1', '5', '8', '1', '0', '7', '8', '9', '3', '7', '8', '慕', '东', '霖'], ['A1-B', 'A1-I', 'A1-I', 'A1-I', 'A1-I', 'A1-I', 'A1-I', 'A1-I', 'A2-B', 'A2-I', 'A2-I', 'A2-I', 'A2-I', 'A3-B', 'A3-I', 'A3-I', 'A3-I', 'A4-B', 'A4-I', 'A4-I', 'A4-I', 'A4-I', 'A4-I', 'T-B', 'T-I', 'T-I', 'T-I', 'T-I', 'T-I', 'T-I', 'T-I', 'T-I', 'T-I', 'T-I', 'P-B', 'P-I', 'P-I'])\n"
     ]
    }
   ],
   "source": [
    "for i in range(5):\n",
    "    print(train_ds[i])"
   ]
  },
  {
   "cell_type": "markdown",
   "metadata": {
    "collapsed": false
   },
   "source": [
    "每条数据包含一句文本和这个文本中每个汉字以及数字对应的label标签。\n",
    "\n",
    "之后，还需要对输入句子进行数据处理，如切词，映射词表id等。"
   ]
  },
  {
   "cell_type": "markdown",
   "metadata": {
    "collapsed": false
   },
   "source": [
    "## 数据处理\n",
    "\n",
    "预训练模型ERNIE对中文数据的处理是以字为单位。PaddleNLP对于各种预训练模型已经内置了相应的tokenizer。指定想要使用的模型名字即可加载对应的tokenizer。\n",
    "\n",
    "tokenizer作用为将原始输入文本转化成模型model可以接受的输入数据形式。\n",
    "\n",
    "\n",
    "<p align=\"center\">\n",
    "<img src=\"https://bj.bcebos.com/paddlehub/paddlehub-img/ernie_network_1.png\" hspace='10'/> <br />\n",
    "</p>\n",
    "\n",
    "\n",
    "<p align=\"center\">\n",
    "<img src=\"https://bj.bcebos.com/paddlehub/paddlehub-img/ernie_network_2.png\" hspace='10'/> <br />\n",
    "</p>\n",
    "<br><center>图3：ERNIE模型示意图</center></br>"
   ]
  },
  {
   "cell_type": "code",
   "execution_count": 7,
   "metadata": {
    "collapsed": false
   },
   "outputs": [
    {
     "name": "stderr",
     "output_type": "stream",
     "text": [
      "[2021-06-27 14:04:04,813] [    INFO] - Found /home/aistudio/.paddlenlp/models/ernie-1.0/vocab.txt\n"
     ]
    },
    {
     "name": "stdout",
     "output_type": "stream",
     "text": [
      "([1, 208, 515, 515, 249, 540, 249, 540, 540, 540, 589, 589, 803, 838, 2914, 1222, 1734, 244, 368, 797, 99, 32, 863, 308, 457, 2778, 484, 167, 436, 930, 192, 233, 634, 99, 213, 40, 317, 540, 256, 2], [0, 0, 0, 0, 0, 0, 0, 0, 0, 0, 0, 0, 0, 0, 0, 0, 0, 0, 0, 0, 0, 0, 0, 0, 0, 0, 0, 0, 0, 0, 0, 0, 0, 0, 0, 0, 0, 0, 0, 0], 40, [12, 2, 3, 3, 3, 3, 3, 3, 3, 3, 3, 3, 0, 1, 1, 4, 5, 5, 6, 7, 7, 8, 9, 9, 10, 11, 11, 11, 11, 11, 11, 11, 11, 11, 11, 11, 11, 11, 11, 12])\n"
     ]
    }
   ],
   "source": [
    "label_vocab = load_dict('./data/tag.dic')\n",
    "tokenizer = ErnieTokenizer.from_pretrained('ernie-1.0')\n",
    "\n",
    "trans_func = partial(convert_example, tokenizer=tokenizer, label_vocab=label_vocab)\n",
    "\n",
    "train_ds.map(trans_func)\n",
    "dev_ds.map(trans_func)\n",
    "test_ds.map(trans_func)\n",
    "print (train_ds[0])"
   ]
  },
  {
   "cell_type": "markdown",
   "metadata": {
    "collapsed": false
   },
   "source": [
    "### 数据读入\n",
    "\n",
    "使用`paddle.io.DataLoader`接口多线程异步加载数据。"
   ]
  },
  {
   "cell_type": "code",
   "execution_count": 8,
   "metadata": {
    "collapsed": false
   },
   "outputs": [],
   "source": [
    "ignore_label = -1\n",
    "batchify_fn = lambda samples, fn=Tuple(\n",
    "    Pad(axis=0, pad_val=tokenizer.pad_token_id),  # input_ids\n",
    "    Pad(axis=0, pad_val=tokenizer.pad_token_type_id),  # token_type_ids\n",
    "    Stack(),  # seq_len\n",
    "    Pad(axis=0, pad_val=ignore_label)  # labels\n",
    "): fn(samples)\n",
    "\n",
    "train_loader = paddle.io.DataLoader(\n",
    "    dataset=train_ds,\n",
    "    batch_size=36,\n",
    "    return_list=True,\n",
    "    collate_fn=batchify_fn)\n",
    "dev_loader = paddle.io.DataLoader(\n",
    "    dataset=dev_ds,\n",
    "    batch_size=36,\n",
    "    return_list=True,\n",
    "    collate_fn=batchify_fn)\n",
    "test_loader = paddle.io.DataLoader(\n",
    "    dataset=test_ds,\n",
    "    batch_size=36,\n",
    "    return_list=True,\n",
    "    collate_fn=batchify_fn)"
   ]
  },
  {
   "cell_type": "markdown",
   "metadata": {
    "collapsed": false
   },
   "source": [
    "## PaddleNLP一键加载预训练模型\n",
    "\n",
    "\n",
    "快递单信息抽取本质是一个序列标注任务，PaddleNLP对于各种预训练模型已经内置了对于下游任务文本分类Fine-tune网络。以下教程以ERNIE为预训练模型完成序列标注任务。\n",
    "\n",
    "`paddlenlp.transformers.ErnieForTokenClassification()`一行代码即可加载预训练模型ERNIE用于序列标注任务的fine-tune网络。其在ERNIE模型后拼接上一个全连接网络进行分类。\n",
    "\n",
    "`paddlenlp.transformers.ErnieForTokenClassification.from_pretrained()`方法只需指定想要使用的模型名称和文本分类的类别数即可完成定义模型网络。"
   ]
  },
  {
   "cell_type": "code",
   "execution_count": 9,
   "metadata": {
    "collapsed": false
   },
   "outputs": [
    {
     "name": "stderr",
     "output_type": "stream",
     "text": [
      "[2021-06-27 14:04:10,771] [    INFO] - Already cached /home/aistudio/.paddlenlp/models/ernie-1.0/ernie_v1_chn_base.pdparams\n",
      "/opt/conda/envs/python35-paddle120-env/lib/python3.7/site-packages/paddle/fluid/dygraph/layers.py:1297: UserWarning: Skip loading for classifier.weight. classifier.weight is not found in the provided dict.\n",
      "  warnings.warn((\"Skip loading for {}. \".format(key) + str(err)))\n",
      "/opt/conda/envs/python35-paddle120-env/lib/python3.7/site-packages/paddle/fluid/dygraph/layers.py:1297: UserWarning: Skip loading for classifier.bias. classifier.bias is not found in the provided dict.\n",
      "  warnings.warn((\"Skip loading for {}. \".format(key) + str(err)))\n"
     ]
    }
   ],
   "source": [
    "# Define the model netword and its loss\n",
    "model = ErnieForTokenClassification.from_pretrained(\"ernie-1.0\", num_classes=len(label_vocab))"
   ]
  },
  {
   "cell_type": "markdown",
   "metadata": {
    "collapsed": false
   },
   "source": [
    "PaddleNLP不仅支持ERNIE预训练模型，还支持BERT、RoBERTa、Electra等预训练模型。\n",
    "下表汇总了目前PaddleNLP支持的各类预训练模型。您可以使用PaddleNLP提供的模型，完成文本分类、序列标注、问答等任务。同时我们提供了众多预训练模型的参数权重供用户使用，其中包含了二十多种中文语言模型的预训练权重。中文的预训练模型有`bert-base-chinese, bert-wwm-chinese, bert-wwm-ext-chinese, ernie-1.0, ernie-tiny, gpt2-base-cn, roberta-wwm-ext, roberta-wwm-ext-large, rbt3, rbtl3, chinese-electra-base, chinese-electra-small, chinese-xlnet-base, chinese-xlnet-mid, chinese-xlnet-large, unified_transformer-12L-cn, unified_transformer-12L-cn-luge`等。\n",
    "\n",
    "更多预训练模型参考：[PaddleNLP Transformer API](https://github.com/PaddlePaddle/PaddleNLP/blob/develop/docs/transformers.md)。\n",
    "\n",
    "更多预训练模型fine-tune下游任务使用方法，请参考：[examples](https://github.com/PaddlePaddle/PaddleNLP/tree/develop/examples)。"
   ]
  },
  {
   "cell_type": "markdown",
   "metadata": {
    "collapsed": false
   },
   "source": [
    "## 设置Fine-Tune优化策略，模型配置\n",
    "适用于ERNIE/BERT这类Transformer模型的迁移优化学习率策略为warmup的动态学习率。\n",
    "\n",
    "<p align=\"center\">\n",
    "<img src=\"https://ai-studio-static-online.cdn.bcebos.com/2bc624280a614a80b5449773192be460f195b13af89e4e5cbaf62bf6ac16de2c\" width=\"40%\" height=\"30%\"/> <br />\n",
    "</p><br><center>图4：动态学习率示意图</center></br>\n",
    "\n"
   ]
  },
  {
   "cell_type": "code",
   "execution_count": 10,
   "metadata": {
    "collapsed": false
   },
   "outputs": [],
   "source": [
    "metric = ChunkEvaluator(label_list=label_vocab.keys(), suffix=True)\n",
    "loss_fn = paddle.nn.loss.CrossEntropyLoss(ignore_index=ignore_label)\n",
    "optimizer = paddle.optimizer.AdamW(learning_rate=2e-5, parameters=model.parameters())"
   ]
  },
  {
   "cell_type": "markdown",
   "metadata": {
    "collapsed": false
   },
   "source": [
    "## 模型训练与评估\n",
    "\n",
    "\n",
    "模型训练的过程通常有以下步骤：\n",
    "\n",
    "1. 从dataloader中取出一个batch data\n",
    "2. 将batch data喂给model，做前向计算\n",
    "3. 将前向计算结果传给损失函数，计算loss。将前向计算结果传给评价方法，计算评价指标。\n",
    "4. loss反向回传，更新梯度。重复以上步骤。\n",
    "\n",
    "每训练一个epoch时，程序将会评估一次，评估当前模型训练的效果。"
   ]
  },
  {
   "cell_type": "code",
   "execution_count": 11,
   "metadata": {
    "collapsed": false
   },
   "outputs": [
    {
     "name": "stderr",
     "output_type": "stream",
     "text": [
      "/opt/conda/envs/python35-paddle120-env/lib/python3.7/site-packages/paddle/fluid/dygraph/math_op_patch.py:239: UserWarning: The dtype of left and right variables are not the same, left dtype is paddle.float32, but right dtype is paddle.bool, the right dtype will convert to paddle.float32\n",
      "  format(lhs_dtype, rhs_dtype, lhs_dtype))\n"
     ]
    },
    {
     "name": "stdout",
     "output_type": "stream",
     "text": [
      "epoch:0 - step:1 - loss: 2.672745\n",
      "epoch:0 - step:2 - loss: 2.427619\n",
      "epoch:0 - step:3 - loss: 2.215773\n",
      "epoch:0 - step:4 - loss: 2.097193\n",
      "epoch:0 - step:5 - loss: 1.962054\n",
      "epoch:0 - step:6 - loss: 1.819881\n",
      "epoch:0 - step:7 - loss: 1.727937\n",
      "epoch:0 - step:8 - loss: 1.597491\n",
      "epoch:0 - step:9 - loss: 1.552388\n",
      "epoch:0 - step:10 - loss: 1.448936\n",
      "epoch:0 - step:11 - loss: 1.386512\n",
      "epoch:0 - step:12 - loss: 1.346317\n",
      "epoch:0 - step:13 - loss: 1.258417\n",
      "epoch:0 - step:14 - loss: 1.206894\n",
      "epoch:0 - step:15 - loss: 1.176442\n",
      "epoch:0 - step:16 - loss: 1.111525\n",
      "epoch:0 - step:17 - loss: 1.093084\n",
      "epoch:0 - step:18 - loss: 1.004238\n",
      "epoch:0 - step:19 - loss: 0.978187\n",
      "epoch:0 - step:20 - loss: 0.927830\n",
      "epoch:0 - step:21 - loss: 0.873676\n",
      "epoch:0 - step:22 - loss: 0.842086\n",
      "epoch:0 - step:23 - loss: 0.791407\n",
      "epoch:0 - step:24 - loss: 0.746791\n",
      "epoch:0 - step:25 - loss: 0.735727\n",
      "epoch:0 - step:26 - loss: 0.680058\n",
      "epoch:0 - step:27 - loss: 0.653942\n",
      "epoch:0 - step:28 - loss: 0.638812\n",
      "epoch:0 - step:29 - loss: 0.584566\n",
      "epoch:0 - step:30 - loss: 0.546239\n",
      "epoch:0 - step:31 - loss: 0.510814\n",
      "epoch:0 - step:32 - loss: 0.499245\n",
      "epoch:0 - step:33 - loss: 0.457559\n",
      "epoch:0 - step:34 - loss: 0.432510\n",
      "epoch:0 - step:35 - loss: 0.388103\n",
      "epoch:0 - step:36 - loss: 0.401688\n",
      "epoch:0 - step:37 - loss: 0.360970\n",
      "epoch:0 - step:38 - loss: 0.327599\n",
      "epoch:0 - step:39 - loss: 0.321537\n",
      "epoch:0 - step:40 - loss: 0.294443\n",
      "epoch:0 - step:41 - loss: 0.277737\n",
      "epoch:0 - step:42 - loss: 0.264375\n",
      "epoch:0 - step:43 - loss: 0.228980\n",
      "epoch:0 - step:44 - loss: 0.212061\n",
      "epoch:0 - step:45 - loss: 0.192580\n"
     ]
    },
    {
     "name": "stderr",
     "output_type": "stream",
     "text": [
      "[2021-06-27 14:04:27,040] [ WARNING] - Compatibility Warning: The params of ChunkEvaluator.compute has been modified. The old version is `inputs`, `lengths`, `predictions`, `labels` while the current version is `lengths`, `predictions`, `labels`.  Please update the usage.\n",
      "/opt/conda/envs/python35-paddle120-env/lib/python3.7/site-packages/paddle/tensor/creation.py:125: DeprecationWarning: `np.object` is a deprecated alias for the builtin `object`. To silence this warning, use `object` by itself. Doing this will not modify any behavior and is safe. \n",
      "Deprecated in NumPy 1.20; for more details and guidance: https://numpy.org/devdocs/release/1.20.0-notes.html#deprecations\n",
      "  if data.dtype == np.object:\n"
     ]
    },
    {
     "name": "stdout",
     "output_type": "stream",
     "text": [
      "eval precision: 0.940115 - recall: 0.963835 - f1: 0.951827\n",
      "epoch:1 - step:46 - loss: 0.199699\n",
      "epoch:1 - step:47 - loss: 0.172516\n",
      "epoch:1 - step:48 - loss: 0.177069\n",
      "epoch:1 - step:49 - loss: 0.157734\n",
      "epoch:1 - step:50 - loss: 0.171055\n",
      "epoch:1 - step:51 - loss: 0.147792\n",
      "epoch:1 - step:52 - loss: 0.151758\n",
      "epoch:1 - step:53 - loss: 0.110827\n",
      "epoch:1 - step:54 - loss: 0.115450\n",
      "epoch:1 - step:55 - loss: 0.098163\n",
      "epoch:1 - step:56 - loss: 0.096274\n",
      "epoch:1 - step:57 - loss: 0.111797\n",
      "epoch:1 - step:58 - loss: 0.082261\n",
      "epoch:1 - step:59 - loss: 0.088024\n",
      "epoch:1 - step:60 - loss: 0.095530\n",
      "epoch:1 - step:61 - loss: 0.086033\n",
      "epoch:1 - step:62 - loss: 0.088045\n",
      "epoch:1 - step:63 - loss: 0.054201\n",
      "epoch:1 - step:64 - loss: 0.087174\n",
      "epoch:1 - step:65 - loss: 0.077407\n",
      "epoch:1 - step:66 - loss: 0.051070\n",
      "epoch:1 - step:67 - loss: 0.075021\n",
      "epoch:1 - step:68 - loss: 0.053737\n",
      "epoch:1 - step:69 - loss: 0.038334\n",
      "epoch:1 - step:70 - loss: 0.069597\n",
      "epoch:1 - step:71 - loss: 0.060403\n",
      "epoch:1 - step:72 - loss: 0.059146\n",
      "epoch:1 - step:73 - loss: 0.063762\n",
      "epoch:1 - step:74 - loss: 0.057957\n",
      "epoch:1 - step:75 - loss: 0.043258\n",
      "epoch:1 - step:76 - loss: 0.034089\n",
      "epoch:1 - step:77 - loss: 0.030726\n",
      "epoch:1 - step:78 - loss: 0.059767\n",
      "epoch:1 - step:79 - loss: 0.034884\n",
      "epoch:1 - step:80 - loss: 0.030716\n",
      "epoch:1 - step:81 - loss: 0.034797\n",
      "epoch:1 - step:82 - loss: 0.048489\n",
      "epoch:1 - step:83 - loss: 0.038830\n",
      "epoch:1 - step:84 - loss: 0.031752\n",
      "epoch:1 - step:85 - loss: 0.031832\n",
      "epoch:1 - step:86 - loss: 0.032873\n",
      "epoch:1 - step:87 - loss: 0.048154\n",
      "epoch:1 - step:88 - loss: 0.024802\n",
      "epoch:1 - step:89 - loss: 0.027752\n",
      "epoch:1 - step:90 - loss: 0.021190\n",
      "eval precision: 0.971714 - recall: 0.982338 - f1: 0.976997\n",
      "epoch:2 - step:91 - loss: 0.028731\n",
      "epoch:2 - step:92 - loss: 0.031934\n",
      "epoch:2 - step:93 - loss: 0.027358\n",
      "epoch:2 - step:94 - loss: 0.024915\n",
      "epoch:2 - step:95 - loss: 0.038826\n",
      "epoch:2 - step:96 - loss: 0.027946\n",
      "epoch:2 - step:97 - loss: 0.030985\n",
      "epoch:2 - step:98 - loss: 0.014346\n",
      "epoch:2 - step:99 - loss: 0.025739\n",
      "epoch:2 - step:100 - loss: 0.056822\n",
      "epoch:2 - step:101 - loss: 0.022794\n",
      "epoch:2 - step:102 - loss: 0.021257\n",
      "epoch:2 - step:103 - loss: 0.015230\n",
      "epoch:2 - step:104 - loss: 0.013720\n",
      "epoch:2 - step:105 - loss: 0.037227\n",
      "epoch:2 - step:106 - loss: 0.031660\n",
      "epoch:2 - step:107 - loss: 0.023397\n",
      "epoch:2 - step:108 - loss: 0.016459\n",
      "epoch:2 - step:109 - loss: 0.056382\n",
      "epoch:2 - step:110 - loss: 0.055881\n",
      "epoch:2 - step:111 - loss: 0.018762\n",
      "epoch:2 - step:112 - loss: 0.030122\n",
      "epoch:2 - step:113 - loss: 0.015510\n",
      "epoch:2 - step:114 - loss: 0.013229\n",
      "epoch:2 - step:115 - loss: 0.024766\n",
      "epoch:2 - step:116 - loss: 0.029715\n",
      "epoch:2 - step:117 - loss: 0.019589\n",
      "epoch:2 - step:118 - loss: 0.029484\n",
      "epoch:2 - step:119 - loss: 0.023118\n",
      "epoch:2 - step:120 - loss: 0.016660\n",
      "epoch:2 - step:121 - loss: 0.024114\n",
      "epoch:2 - step:122 - loss: 0.013788\n",
      "epoch:2 - step:123 - loss: 0.032794\n",
      "epoch:2 - step:124 - loss: 0.014977\n",
      "epoch:2 - step:125 - loss: 0.009635\n",
      "epoch:2 - step:126 - loss: 0.011685\n",
      "epoch:2 - step:127 - loss: 0.037976\n",
      "epoch:2 - step:128 - loss: 0.031473\n",
      "epoch:2 - step:129 - loss: 0.015743\n",
      "epoch:2 - step:130 - loss: 0.009593\n",
      "epoch:2 - step:131 - loss: 0.016418\n",
      "epoch:2 - step:132 - loss: 0.022040\n",
      "epoch:2 - step:133 - loss: 0.008382\n",
      "epoch:2 - step:134 - loss: 0.013012\n",
      "epoch:2 - step:135 - loss: 0.016040\n",
      "eval precision: 0.986600 - recall: 0.990749 - f1: 0.988670\n",
      "epoch:3 - step:136 - loss: 0.011680\n",
      "epoch:3 - step:137 - loss: 0.011068\n",
      "epoch:3 - step:138 - loss: 0.021465\n",
      "epoch:3 - step:139 - loss: 0.011260\n",
      "epoch:3 - step:140 - loss: 0.015174\n",
      "epoch:3 - step:141 - loss: 0.012700\n",
      "epoch:3 - step:142 - loss: 0.027194\n",
      "epoch:3 - step:143 - loss: 0.011760\n",
      "epoch:3 - step:144 - loss: 0.010471\n",
      "epoch:3 - step:145 - loss: 0.008538\n",
      "epoch:3 - step:146 - loss: 0.020934\n",
      "epoch:3 - step:147 - loss: 0.007961\n",
      "epoch:3 - step:148 - loss: 0.006588\n",
      "epoch:3 - step:149 - loss: 0.009327\n",
      "epoch:3 - step:150 - loss: 0.012018\n",
      "epoch:3 - step:151 - loss: 0.008121\n",
      "epoch:3 - step:152 - loss: 0.011206\n",
      "epoch:3 - step:153 - loss: 0.008099\n",
      "epoch:3 - step:154 - loss: 0.036916\n",
      "epoch:3 - step:155 - loss: 0.049547\n",
      "epoch:3 - step:156 - loss: 0.013415\n",
      "epoch:3 - step:157 - loss: 0.022277\n",
      "epoch:3 - step:158 - loss: 0.006477\n",
      "epoch:3 - step:159 - loss: 0.006273\n",
      "epoch:3 - step:160 - loss: 0.013224\n",
      "epoch:3 - step:161 - loss: 0.031910\n",
      "epoch:3 - step:162 - loss: 0.010823\n",
      "epoch:3 - step:163 - loss: 0.013205\n",
      "epoch:3 - step:164 - loss: 0.010817\n",
      "epoch:3 - step:165 - loss: 0.011102\n",
      "epoch:3 - step:166 - loss: 0.010186\n",
      "epoch:3 - step:167 - loss: 0.006394\n",
      "epoch:3 - step:168 - loss: 0.028818\n",
      "epoch:3 - step:169 - loss: 0.009027\n",
      "epoch:3 - step:170 - loss: 0.005201\n",
      "epoch:3 - step:171 - loss: 0.010636\n",
      "epoch:3 - step:172 - loss: 0.016233\n",
      "epoch:3 - step:173 - loss: 0.013102\n",
      "epoch:3 - step:174 - loss: 0.006943\n",
      "epoch:3 - step:175 - loss: 0.007232\n",
      "epoch:3 - step:176 - loss: 0.009105\n",
      "epoch:3 - step:177 - loss: 0.016446\n",
      "epoch:3 - step:178 - loss: 0.005704\n",
      "epoch:3 - step:179 - loss: 0.009147\n",
      "epoch:3 - step:180 - loss: 0.006112\n",
      "eval precision: 0.989933 - recall: 0.992431 - f1: 0.991180\n",
      "epoch:4 - step:181 - loss: 0.012760\n",
      "epoch:4 - step:182 - loss: 0.006433\n",
      "epoch:4 - step:183 - loss: 0.010971\n",
      "epoch:4 - step:184 - loss: 0.007541\n",
      "epoch:4 - step:185 - loss: 0.004877\n",
      "epoch:4 - step:186 - loss: 0.019177\n",
      "epoch:4 - step:187 - loss: 0.007766\n",
      "epoch:4 - step:188 - loss: 0.007928\n",
      "epoch:4 - step:189 - loss: 0.005766\n",
      "epoch:4 - step:190 - loss: 0.009220\n",
      "epoch:4 - step:191 - loss: 0.010256\n",
      "epoch:4 - step:192 - loss: 0.006741\n",
      "epoch:4 - step:193 - loss: 0.004342\n",
      "epoch:4 - step:194 - loss: 0.008441\n",
      "epoch:4 - step:195 - loss: 0.014160\n",
      "epoch:4 - step:196 - loss: 0.005182\n",
      "epoch:4 - step:197 - loss: 0.004491\n",
      "epoch:4 - step:198 - loss: 0.004848\n",
      "epoch:4 - step:199 - loss: 0.031772\n",
      "epoch:4 - step:200 - loss: 0.029353\n",
      "epoch:4 - step:201 - loss: 0.014209\n",
      "epoch:4 - step:202 - loss: 0.007288\n",
      "epoch:4 - step:203 - loss: 0.005644\n",
      "epoch:4 - step:204 - loss: 0.004717\n",
      "epoch:4 - step:205 - loss: 0.008616\n",
      "epoch:4 - step:206 - loss: 0.010150\n",
      "epoch:4 - step:207 - loss: 0.004688\n",
      "epoch:4 - step:208 - loss: 0.015622\n",
      "epoch:4 - step:209 - loss: 0.005946\n",
      "epoch:4 - step:210 - loss: 0.007744\n",
      "epoch:4 - step:211 - loss: 0.004465\n",
      "epoch:4 - step:212 - loss: 0.004374\n",
      "epoch:4 - step:213 - loss: 0.031309\n",
      "epoch:4 - step:214 - loss: 0.005186\n",
      "epoch:4 - step:215 - loss: 0.008212\n",
      "epoch:4 - step:216 - loss: 0.003594\n",
      "epoch:4 - step:217 - loss: 0.004207\n",
      "epoch:4 - step:218 - loss: 0.008366\n",
      "epoch:4 - step:219 - loss: 0.004005\n",
      "epoch:4 - step:220 - loss: 0.005992\n",
      "epoch:4 - step:221 - loss: 0.004883\n",
      "epoch:4 - step:222 - loss: 0.011957\n",
      "epoch:4 - step:223 - loss: 0.008684\n",
      "epoch:4 - step:224 - loss: 0.014009\n",
      "epoch:4 - step:225 - loss: 0.003674\n",
      "eval precision: 0.991604 - recall: 0.993272 - f1: 0.992437\n",
      "epoch:5 - step:226 - loss: 0.006390\n",
      "epoch:5 - step:227 - loss: 0.004103\n",
      "epoch:5 - step:228 - loss: 0.004526\n",
      "epoch:5 - step:229 - loss: 0.004271\n",
      "epoch:5 - step:230 - loss: 0.003824\n",
      "epoch:5 - step:231 - loss: 0.006050\n",
      "epoch:5 - step:232 - loss: 0.006190\n",
      "epoch:5 - step:233 - loss: 0.003238\n",
      "epoch:5 - step:234 - loss: 0.003286\n",
      "epoch:5 - step:235 - loss: 0.003545\n",
      "epoch:5 - step:236 - loss: 0.013956\n",
      "epoch:5 - step:237 - loss: 0.012475\n",
      "epoch:5 - step:238 - loss: 0.002962\n",
      "epoch:5 - step:239 - loss: 0.002924\n",
      "epoch:5 - step:240 - loss: 0.005378\n",
      "epoch:5 - step:241 - loss: 0.005196\n",
      "epoch:5 - step:242 - loss: 0.003859\n",
      "epoch:5 - step:243 - loss: 0.002941\n",
      "epoch:5 - step:244 - loss: 0.020534\n",
      "epoch:5 - step:245 - loss: 0.024876\n",
      "epoch:5 - step:246 - loss: 0.003343\n",
      "epoch:5 - step:247 - loss: 0.005288\n",
      "epoch:5 - step:248 - loss: 0.006497\n",
      "epoch:5 - step:249 - loss: 0.003578\n",
      "epoch:5 - step:250 - loss: 0.005216\n",
      "epoch:5 - step:251 - loss: 0.010143\n",
      "epoch:5 - step:252 - loss: 0.004573\n",
      "epoch:5 - step:253 - loss: 0.005561\n",
      "epoch:5 - step:254 - loss: 0.003442\n",
      "epoch:5 - step:255 - loss: 0.002662\n",
      "epoch:5 - step:256 - loss: 0.002639\n",
      "epoch:5 - step:257 - loss: 0.002483\n",
      "epoch:5 - step:258 - loss: 0.025384\n",
      "epoch:5 - step:259 - loss: 0.004117\n",
      "epoch:5 - step:260 - loss: 0.002562\n",
      "epoch:5 - step:261 - loss: 0.002762\n",
      "epoch:5 - step:262 - loss: 0.004469\n",
      "epoch:5 - step:263 - loss: 0.015423\n",
      "epoch:5 - step:264 - loss: 0.003844\n",
      "epoch:5 - step:265 - loss: 0.003445\n",
      "epoch:5 - step:266 - loss: 0.007080\n",
      "epoch:5 - step:267 - loss: 0.002521\n",
      "epoch:5 - step:268 - loss: 0.002361\n",
      "epoch:5 - step:269 - loss: 0.004302\n",
      "epoch:5 - step:270 - loss: 0.004732\n",
      "eval precision: 0.989933 - recall: 0.992431 - f1: 0.991180\n",
      "epoch:6 - step:271 - loss: 0.002227\n",
      "epoch:6 - step:272 - loss: 0.002604\n",
      "epoch:6 - step:273 - loss: 0.003118\n",
      "epoch:6 - step:274 - loss: 0.003483\n",
      "epoch:6 - step:275 - loss: 0.003365\n",
      "epoch:6 - step:276 - loss: 0.002700\n",
      "epoch:6 - step:277 - loss: 0.002679\n",
      "epoch:6 - step:278 - loss: 0.002349\n",
      "epoch:6 - step:279 - loss: 0.002254\n",
      "epoch:6 - step:280 - loss: 0.003416\n",
      "epoch:6 - step:281 - loss: 0.003527\n",
      "epoch:6 - step:282 - loss: 0.002681\n",
      "epoch:6 - step:283 - loss: 0.002141\n",
      "epoch:6 - step:284 - loss: 0.002678\n",
      "epoch:6 - step:285 - loss: 0.003047\n",
      "epoch:6 - step:286 - loss: 0.003652\n",
      "epoch:6 - step:287 - loss: 0.002398\n",
      "epoch:6 - step:288 - loss: 0.003053\n",
      "epoch:6 - step:289 - loss: 0.024646\n",
      "epoch:6 - step:290 - loss: 0.022518\n",
      "epoch:6 - step:291 - loss: 0.003911\n",
      "epoch:6 - step:292 - loss: 0.002332\n",
      "epoch:6 - step:293 - loss: 0.002303\n",
      "epoch:6 - step:294 - loss: 0.002074\n",
      "epoch:6 - step:295 - loss: 0.006524\n",
      "epoch:6 - step:296 - loss: 0.006438\n",
      "epoch:6 - step:297 - loss: 0.002642\n",
      "epoch:6 - step:298 - loss: 0.002310\n",
      "epoch:6 - step:299 - loss: 0.005772\n",
      "epoch:6 - step:300 - loss: 0.003201\n",
      "epoch:6 - step:301 - loss: 0.002058\n",
      "epoch:6 - step:302 - loss: 0.003358\n",
      "epoch:6 - step:303 - loss: 0.022756\n",
      "epoch:6 - step:304 - loss: 0.002038\n",
      "epoch:6 - step:305 - loss: 0.001857\n",
      "epoch:6 - step:306 - loss: 0.006593\n",
      "epoch:6 - step:307 - loss: 0.012204\n",
      "epoch:6 - step:308 - loss: 0.004171\n",
      "epoch:6 - step:309 - loss: 0.002690\n",
      "epoch:6 - step:310 - loss: 0.003089\n",
      "epoch:6 - step:311 - loss: 0.005654\n",
      "epoch:6 - step:312 - loss: 0.006583\n",
      "epoch:6 - step:313 - loss: 0.004335\n",
      "epoch:6 - step:314 - loss: 0.006984\n",
      "epoch:6 - step:315 - loss: 0.003426\n",
      "eval precision: 0.993283 - recall: 0.994954 - f1: 0.994118\n",
      "epoch:7 - step:316 - loss: 0.002985\n",
      "epoch:7 - step:317 - loss: 0.002620\n",
      "epoch:7 - step:318 - loss: 0.005976\n",
      "epoch:7 - step:319 - loss: 0.002006\n",
      "epoch:7 - step:320 - loss: 0.004277\n",
      "epoch:7 - step:321 - loss: 0.002305\n",
      "epoch:7 - step:322 - loss: 0.004569\n",
      "epoch:7 - step:323 - loss: 0.001978\n",
      "epoch:7 - step:324 - loss: 0.002426\n",
      "epoch:7 - step:325 - loss: 0.001840\n",
      "epoch:7 - step:326 - loss: 0.002264\n",
      "epoch:7 - step:327 - loss: 0.002413\n",
      "epoch:7 - step:328 - loss: 0.001775\n",
      "epoch:7 - step:329 - loss: 0.001752\n",
      "epoch:7 - step:330 - loss: 0.005348\n",
      "epoch:7 - step:331 - loss: 0.007705\n",
      "epoch:7 - step:332 - loss: 0.003415\n",
      "epoch:7 - step:333 - loss: 0.002769\n",
      "epoch:7 - step:334 - loss: 0.019499\n",
      "epoch:7 - step:335 - loss: 0.025917\n",
      "epoch:7 - step:336 - loss: 0.002937\n",
      "epoch:7 - step:337 - loss: 0.002461\n",
      "epoch:7 - step:338 - loss: 0.003674\n",
      "epoch:7 - step:339 - loss: 0.001723\n",
      "epoch:7 - step:340 - loss: 0.004326\n",
      "epoch:7 - step:341 - loss: 0.002907\n",
      "epoch:7 - step:342 - loss: 0.004614\n",
      "epoch:7 - step:343 - loss: 0.003753\n",
      "epoch:7 - step:344 - loss: 0.006109\n",
      "epoch:7 - step:345 - loss: 0.006504\n",
      "epoch:7 - step:346 - loss: 0.001753\n",
      "epoch:7 - step:347 - loss: 0.008841\n",
      "epoch:7 - step:348 - loss: 0.021004\n",
      "epoch:7 - step:349 - loss: 0.002303\n",
      "epoch:7 - step:350 - loss: 0.001893\n",
      "epoch:7 - step:351 - loss: 0.002610\n",
      "epoch:7 - step:352 - loss: 0.006673\n",
      "epoch:7 - step:353 - loss: 0.013889\n",
      "epoch:7 - step:354 - loss: 0.003382\n",
      "epoch:7 - step:355 - loss: 0.003548\n",
      "epoch:7 - step:356 - loss: 0.005119\n",
      "epoch:7 - step:357 - loss: 0.004422\n",
      "epoch:7 - step:358 - loss: 0.002272\n",
      "epoch:7 - step:359 - loss: 0.001714\n",
      "epoch:7 - step:360 - loss: 0.001553\n",
      "eval precision: 0.993283 - recall: 0.994954 - f1: 0.994118\n",
      "epoch:8 - step:361 - loss: 0.001775\n",
      "epoch:8 - step:362 - loss: 0.001622\n",
      "epoch:8 - step:363 - loss: 0.001763\n",
      "epoch:8 - step:364 - loss: 0.005083\n",
      "epoch:8 - step:365 - loss: 0.003518\n",
      "epoch:8 - step:366 - loss: 0.004112\n",
      "epoch:8 - step:367 - loss: 0.002147\n",
      "epoch:8 - step:368 - loss: 0.003802\n",
      "epoch:8 - step:369 - loss: 0.001845\n",
      "epoch:8 - step:370 - loss: 0.001703\n",
      "epoch:8 - step:371 - loss: 0.003360\n",
      "epoch:8 - step:372 - loss: 0.001632\n",
      "epoch:8 - step:373 - loss: 0.001519\n",
      "epoch:8 - step:374 - loss: 0.001484\n",
      "epoch:8 - step:375 - loss: 0.004726\n",
      "epoch:8 - step:376 - loss: 0.003691\n",
      "epoch:8 - step:377 - loss: 0.001621\n",
      "epoch:8 - step:378 - loss: 0.002225\n",
      "epoch:8 - step:379 - loss: 0.005625\n",
      "epoch:8 - step:380 - loss: 0.019608\n",
      "epoch:8 - step:381 - loss: 0.008356\n",
      "epoch:8 - step:382 - loss: 0.012201\n",
      "epoch:8 - step:383 - loss: 0.002168\n",
      "epoch:8 - step:384 - loss: 0.001770\n",
      "epoch:8 - step:385 - loss: 0.003025\n",
      "epoch:8 - step:386 - loss: 0.002086\n",
      "epoch:8 - step:387 - loss: 0.005053\n",
      "epoch:8 - step:388 - loss: 0.002584\n",
      "epoch:8 - step:389 - loss: 0.003605\n",
      "epoch:8 - step:390 - loss: 0.003167\n",
      "epoch:8 - step:391 - loss: 0.001767\n",
      "epoch:8 - step:392 - loss: 0.002908\n",
      "epoch:8 - step:393 - loss: 0.022540\n",
      "epoch:8 - step:394 - loss: 0.001649\n",
      "epoch:8 - step:395 - loss: 0.001436\n",
      "epoch:8 - step:396 - loss: 0.001420\n",
      "epoch:8 - step:397 - loss: 0.001677\n",
      "epoch:8 - step:398 - loss: 0.008358\n",
      "epoch:8 - step:399 - loss: 0.002070\n",
      "epoch:8 - step:400 - loss: 0.001655\n",
      "epoch:8 - step:401 - loss: 0.001670\n",
      "epoch:8 - step:402 - loss: 0.015803\n",
      "epoch:8 - step:403 - loss: 0.005972\n",
      "epoch:8 - step:404 - loss: 0.015690\n",
      "epoch:8 - step:405 - loss: 0.001399\n",
      "eval precision: 0.989924 - recall: 0.991590 - f1: 0.990756\n",
      "epoch:9 - step:406 - loss: 0.001444\n",
      "epoch:9 - step:407 - loss: 0.002209\n",
      "epoch:9 - step:408 - loss: 0.001470\n",
      "epoch:9 - step:409 - loss: 0.001853\n",
      "epoch:9 - step:410 - loss: 0.001673\n",
      "epoch:9 - step:411 - loss: 0.002018\n",
      "epoch:9 - step:412 - loss: 0.003834\n",
      "epoch:9 - step:413 - loss: 0.001628\n",
      "epoch:9 - step:414 - loss: 0.002264\n",
      "epoch:9 - step:415 - loss: 0.001705\n",
      "epoch:9 - step:416 - loss: 0.001929\n",
      "epoch:9 - step:417 - loss: 0.001842\n",
      "epoch:9 - step:418 - loss: 0.001355\n",
      "epoch:9 - step:419 - loss: 0.002008\n",
      "epoch:9 - step:420 - loss: 0.004641\n",
      "epoch:9 - step:421 - loss: 0.007353\n",
      "epoch:9 - step:422 - loss: 0.001564\n",
      "epoch:9 - step:423 - loss: 0.001298\n",
      "epoch:9 - step:424 - loss: 0.002051\n",
      "epoch:9 - step:425 - loss: 0.021893\n",
      "epoch:9 - step:426 - loss: 0.001328\n",
      "epoch:9 - step:427 - loss: 0.001500\n",
      "epoch:9 - step:428 - loss: 0.001577\n",
      "epoch:9 - step:429 - loss: 0.001801\n",
      "epoch:9 - step:430 - loss: 0.005004\n",
      "epoch:9 - step:431 - loss: 0.001357\n",
      "epoch:9 - step:432 - loss: 0.001416\n",
      "epoch:9 - step:433 - loss: 0.001404\n",
      "epoch:9 - step:434 - loss: 0.002645\n",
      "epoch:9 - step:435 - loss: 0.004973\n",
      "epoch:9 - step:436 - loss: 0.001659\n",
      "epoch:9 - step:437 - loss: 0.001524\n",
      "epoch:9 - step:438 - loss: 0.020453\n",
      "epoch:9 - step:439 - loss: 0.001263\n",
      "epoch:9 - step:440 - loss: 0.001180\n",
      "epoch:9 - step:441 - loss: 0.001215\n",
      "epoch:9 - step:442 - loss: 0.002927\n",
      "epoch:9 - step:443 - loss: 0.003251\n",
      "epoch:9 - step:444 - loss: 0.001379\n",
      "epoch:9 - step:445 - loss: 0.003286\n",
      "epoch:9 - step:446 - loss: 0.001476\n",
      "epoch:9 - step:447 - loss: 0.001765\n",
      "epoch:9 - step:448 - loss: 0.001200\n",
      "epoch:9 - step:449 - loss: 0.013122\n",
      "epoch:9 - step:450 - loss: 0.001787\n",
      "eval precision: 0.990772 - recall: 0.993272 - f1: 0.992020\n"
     ]
    }
   ],
   "source": [
    "step = 0\n",
    "for epoch in range(10):\n",
    "    for idx, (input_ids, token_type_ids, length, labels) in enumerate(train_loader):\n",
    "        logits = model(input_ids, token_type_ids)\n",
    "        loss = paddle.mean(loss_fn(logits, labels))\n",
    "        loss.backward()\n",
    "        optimizer.step()\n",
    "        optimizer.clear_grad()\n",
    "        step += 1\n",
    "        print(\"epoch:%d - step:%d - loss: %f\" % (epoch, step, loss))\n",
    "    evaluate(model, metric, dev_loader)\n",
    "\n",
    "    paddle.save(model.state_dict(),\n",
    "                './ernie_result/model_%d.pdparams' % step)\n",
    "# model.save_pretrained('./checkpoint')\n",
    "# tokenizer.save_pretrained('./checkpoint')"
   ]
  },
  {
   "cell_type": "markdown",
   "metadata": {
    "collapsed": false
   },
   "source": [
    "## 模型预测\n",
    "\n",
    "训练保存好的模型，即可用于预测。如以下示例代码自定义预测数据，调用`predict()`函数即可一键预测。"
   ]
  },
  {
   "cell_type": "code",
   "execution_count": 12,
   "metadata": {
    "collapsed": false
   },
   "outputs": [
    {
     "name": "stdout",
     "output_type": "stream",
     "text": [
      "The results have been saved in the file: ernie_results.txt, some examples are shown below: \n",
      "('黑龙江省', 'A1')('双鸭山市', 'A2')('尖山区', 'A3')('八马路与东平行路交叉口北40米', 'A4')('韦业涛', 'P')('18600009172', 'T')\n",
      "('广西壮族自治区', 'A1')('桂林市', 'A2')('雁山区', 'A3')('雁山镇西龙村老年活动中心', 'A4')('17610348888', 'T')('羊卓卫', 'P')\n",
      "('15652864561', 'T')('河南省', 'A1')('开封市', 'A2')('顺河回族区', 'A3')('顺河区公园路32号', 'A4')('赵本山', 'P')\n",
      "('河北省', 'A1')('唐山市', 'A2')('玉田县', 'A3')('无终大街159号', 'A4')('18614253058', 'T')('尚汉生', 'P')\n",
      "('台湾', 'A1')('台中市', 'A2')('北区', 'A3')('北区锦新街18号', 'A4')('18511226708', 'T')('蓟丽', 'P')\n",
      "('廖梓琪', 'P')('18514743222', 'T')('湖北省', 'A1')('宜昌市', 'A2')('长阳土家族自治县', 'A3')('贺家坪镇贺家坪村一组临河1号', 'A4')\n",
      "('江苏省', 'A1')('南通市', 'A2')('海门市', 'A3')('孝威村孝威路88号', 'A4')('18611840623', 'T')('计星仪', 'P')\n",
      "('17601674746', 'T')('赵春丽', 'P')('内蒙古自治区', 'A1')('乌兰察布市', 'A2')('凉城县', 'A3')('新建街', 'A4')\n",
      "('云南省', 'A1')('临沧市', 'A2')('耿马傣族佤族自治县', 'A3')('鑫源路法院对面', 'A4')('许贞爱', 'P')('18510566685', 'T')\n",
      "('四川省', 'A1')('成都市', 'A2')('双流区', 'A3')('东升镇北仓路196号', 'A4')('耿丕岭', 'P')('18513466161', 'T')\n"
     ]
    }
   ],
   "source": [
    "preds = predict(model, test_loader, test_ds, label_vocab)\n",
    "file_path = \"ernie_results.txt\"\n",
    "with open(file_path, \"w\", encoding=\"utf8\") as fout:\n",
    "    fout.write(\"\\n\".join(preds))\n",
    "# Print some examples\n",
    "print(\n",
    "    \"The results have been saved in the file: %s, some examples are shown below: \"\n",
    "    % file_path)\n",
    "print(\"\\n\".join(preds[:10]))"
   ]
  }
 ],
 "metadata": {
  "kernelspec": {
   "display_name": "PaddlePaddle 2.1.0 (Python 3.5)",
   "language": "python",
   "name": "py35-paddle1.2.0"
  },
  "language_info": {
   "codemirror_mode": {
    "name": "ipython",
    "version": 3
   },
   "file_extension": ".py",
   "mimetype": "text/x-python",
   "name": "python",
   "nbconvert_exporter": "python",
   "pygments_lexer": "ipython3",
   "version": "3.7.4"
  }
 },
 "nbformat": 4,
 "nbformat_minor": 1
}
