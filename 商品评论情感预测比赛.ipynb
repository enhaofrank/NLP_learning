{
 "cells": [
  {
   "cell_type": "markdown",
   "metadata": {},
   "source": [
    "#  一、预测分析·商品评论情感预测\n",
    "竞赛地址： [https://www.heywhale.com/home/competition/609cc718ca31cd0017835fdc/content/1](https://www.heywhale.com/home/competition/609cc718ca31cd0017835fdc/content/1)\n",
    "\n",
    "\n",
    "## 1.背景\n",
    "众所周知，大数据是企业的基本生产资料，数据信息是企业 宝贵的资产。不同于其他资产，数据资产主要在企业运营过程中 产生，较易获取，但要持续积累、沉淀和做好管理却并不容易， 这是一项长期且系统性的工程。未经“雕琢”的数据是一组无序、 混乱的数字，并不能给企业带来何种价值，从庞杂晦涩的数据中 挖掘出“宝藏”充满着挑战，这需要将业务、技术与管理三者相 互融合起来进行创新。\n",
    "\n",
    "随着网上购物越来越流行，人们对于网上购物的需求变得越来越高，这让京东，淘宝等电商平台得到了很大的发展机遇。但是，这种需求也推动了更多的电商平台的发展，引发了激烈的竞争。在这种电商平台激烈竞争的大背景下，除了提高商品质量，压低商品价格外，了解更多的消费者心声对于电商平台来说也越来越重要。其中非常重要的一种方式就是针对消费者的购物行为数据和文本评论数据进行内在信息的数据挖掘分析。而得到这些信息，也有利于对应商品的生产自身竞争力的提高，以及为用户提供高质量感兴趣的商品。\n",
    "\n",
    "## 2.数据简介\n",
    "* 本数据集包括52 万件商品，1100 多个类目，142 万用户，720 万条评论/评分数据\n",
    "* 本次练习赛所使用数据集基于JD的电商数据，来自WWW的JD.com E-Commerce Data，并且针对部分字段做出了一定的调整，所有的字段信息请以本练习赛提供的字段信息为准\n",
    "* 评分为[1,5] 之间的整数"
   ]
  },
  {
   "cell_type": "code",
   "execution_count": 1,
   "metadata": {},
   "outputs": [
    {
     "name": "stdout",
     "output_type": "stream",
     "text": [
      "Looking in indexes: https://mirror.baidu.com/pypi/simple/\n",
      "\u001b[33mWARNING: Retrying (Retry(total=4, connect=None, read=None, redirect=None, status=None)) after connection broken by 'NewConnectionError('<pip._vendor.urllib3.connection.VerifiedHTTPSConnection object at 0x7fe519760150>: Failed to establish a new connection: [Errno -3] Temporary failure in name resolution')': /pypi/simple/paddlenlp/\u001b[0m\n",
      "Collecting paddlenlp\n",
      "\u001b[?25l  Downloading https://mirror.baidu.com/pypi/packages/b0/12/a827fac49f02eb642b9c0b7906e1684c24d87d866c6ccc9f40f76c41fc3e/paddlenlp-2.0.6-py3-none-any.whl (485kB)\n",
      "\u001b[K     |████████████████████████████████| 491kB 13.7MB/s eta 0:00:01\n",
      "\u001b[?25hRequirement already satisfied, skipping upgrade: seqeval in /opt/conda/envs/python35-paddle120-env/lib/python3.7/site-packages (from paddlenlp) (1.2.2)\n",
      "Requirement already satisfied, skipping upgrade: colorlog in /opt/conda/envs/python35-paddle120-env/lib/python3.7/site-packages (from paddlenlp) (4.1.0)\n",
      "Requirement already satisfied, skipping upgrade: multiprocess in /opt/conda/envs/python35-paddle120-env/lib/python3.7/site-packages (from paddlenlp) (0.70.11.1)\n",
      "Requirement already satisfied, skipping upgrade: jieba in /opt/conda/envs/python35-paddle120-env/lib/python3.7/site-packages (from paddlenlp) (0.42.1)\n",
      "Requirement already satisfied, skipping upgrade: h5py in /opt/conda/envs/python35-paddle120-env/lib/python3.7/site-packages (from paddlenlp) (2.9.0)\n",
      "Requirement already satisfied, skipping upgrade: visualdl in /opt/conda/envs/python35-paddle120-env/lib/python3.7/site-packages (from paddlenlp) (2.2.0)\n",
      "Requirement already satisfied, skipping upgrade: colorama in /opt/conda/envs/python35-paddle120-env/lib/python3.7/site-packages (from paddlenlp) (0.4.4)\n",
      "Requirement already satisfied, skipping upgrade: scikit-learn>=0.21.3 in /opt/conda/envs/python35-paddle120-env/lib/python3.7/site-packages (from seqeval->paddlenlp) (0.24.2)\n",
      "Requirement already satisfied, skipping upgrade: numpy>=1.14.0 in /opt/conda/envs/python35-paddle120-env/lib/python3.7/site-packages (from seqeval->paddlenlp) (1.20.3)\n",
      "Requirement already satisfied, skipping upgrade: dill>=0.3.3 in /opt/conda/envs/python35-paddle120-env/lib/python3.7/site-packages (from multiprocess->paddlenlp) (0.3.3)\n",
      "Requirement already satisfied, skipping upgrade: six in /opt/conda/envs/python35-paddle120-env/lib/python3.7/site-packages (from h5py->paddlenlp) (1.15.0)\n",
      "Requirement already satisfied, skipping upgrade: requests in /opt/conda/envs/python35-paddle120-env/lib/python3.7/site-packages (from visualdl->paddlenlp) (2.22.0)\n",
      "Requirement already satisfied, skipping upgrade: shellcheck-py in /opt/conda/envs/python35-paddle120-env/lib/python3.7/site-packages (from visualdl->paddlenlp) (0.7.1.1)\n",
      "Requirement already satisfied, skipping upgrade: flask>=1.1.1 in /opt/conda/envs/python35-paddle120-env/lib/python3.7/site-packages (from visualdl->paddlenlp) (1.1.1)\n",
      "Requirement already satisfied, skipping upgrade: Pillow>=7.0.0 in /opt/conda/envs/python35-paddle120-env/lib/python3.7/site-packages (from visualdl->paddlenlp) (7.1.2)\n",
      "Requirement already satisfied, skipping upgrade: matplotlib in /opt/conda/envs/python35-paddle120-env/lib/python3.7/site-packages (from visualdl->paddlenlp) (2.2.3)\n",
      "Requirement already satisfied, skipping upgrade: pre-commit in /opt/conda/envs/python35-paddle120-env/lib/python3.7/site-packages (from visualdl->paddlenlp) (1.21.0)\n",
      "Requirement already satisfied, skipping upgrade: Flask-Babel>=1.0.0 in /opt/conda/envs/python35-paddle120-env/lib/python3.7/site-packages (from visualdl->paddlenlp) (1.0.0)\n",
      "Requirement already satisfied, skipping upgrade: protobuf>=3.11.0 in /opt/conda/envs/python35-paddle120-env/lib/python3.7/site-packages (from visualdl->paddlenlp) (3.14.0)\n",
      "Requirement already satisfied, skipping upgrade: bce-python-sdk in /opt/conda/envs/python35-paddle120-env/lib/python3.7/site-packages (from visualdl->paddlenlp) (0.8.53)\n",
      "Requirement already satisfied, skipping upgrade: pandas in /opt/conda/envs/python35-paddle120-env/lib/python3.7/site-packages (from visualdl->paddlenlp) (1.1.5)\n",
      "Requirement already satisfied, skipping upgrade: flake8>=3.7.9 in /opt/conda/envs/python35-paddle120-env/lib/python3.7/site-packages (from visualdl->paddlenlp) (3.8.2)\n",
      "Requirement already satisfied, skipping upgrade: joblib>=0.11 in /opt/conda/envs/python35-paddle120-env/lib/python3.7/site-packages (from scikit-learn>=0.21.3->seqeval->paddlenlp) (0.14.1)\n",
      "Requirement already satisfied, skipping upgrade: threadpoolctl>=2.0.0 in /opt/conda/envs/python35-paddle120-env/lib/python3.7/site-packages (from scikit-learn>=0.21.3->seqeval->paddlenlp) (2.1.0)\n",
      "Requirement already satisfied, skipping upgrade: scipy>=0.19.1 in /opt/conda/envs/python35-paddle120-env/lib/python3.7/site-packages (from scikit-learn>=0.21.3->seqeval->paddlenlp) (1.6.3)\n",
      "Requirement already satisfied, skipping upgrade: certifi>=2017.4.17 in /opt/conda/envs/python35-paddle120-env/lib/python3.7/site-packages (from requests->visualdl->paddlenlp) (2019.9.11)\n",
      "Requirement already satisfied, skipping upgrade: chardet<3.1.0,>=3.0.2 in /opt/conda/envs/python35-paddle120-env/lib/python3.7/site-packages (from requests->visualdl->paddlenlp) (3.0.4)\n",
      "Requirement already satisfied, skipping upgrade: idna<2.9,>=2.5 in /opt/conda/envs/python35-paddle120-env/lib/python3.7/site-packages (from requests->visualdl->paddlenlp) (2.8)\n",
      "Requirement already satisfied, skipping upgrade: urllib3!=1.25.0,!=1.25.1,<1.26,>=1.21.1 in /opt/conda/envs/python35-paddle120-env/lib/python3.7/site-packages (from requests->visualdl->paddlenlp) (1.25.6)\n",
      "Requirement already satisfied, skipping upgrade: itsdangerous>=0.24 in /opt/conda/envs/python35-paddle120-env/lib/python3.7/site-packages (from flask>=1.1.1->visualdl->paddlenlp) (1.1.0)\n",
      "Requirement already satisfied, skipping upgrade: click>=5.1 in /opt/conda/envs/python35-paddle120-env/lib/python3.7/site-packages (from flask>=1.1.1->visualdl->paddlenlp) (7.0)\n",
      "Requirement already satisfied, skipping upgrade: Jinja2>=2.10.1 in /opt/conda/envs/python35-paddle120-env/lib/python3.7/site-packages (from flask>=1.1.1->visualdl->paddlenlp) (2.10.1)\n",
      "Requirement already satisfied, skipping upgrade: Werkzeug>=0.15 in /opt/conda/envs/python35-paddle120-env/lib/python3.7/site-packages (from flask>=1.1.1->visualdl->paddlenlp) (0.16.0)\n",
      "Requirement already satisfied, skipping upgrade: pyparsing!=2.0.4,!=2.1.2,!=2.1.6,>=2.0.1 in /opt/conda/envs/python35-paddle120-env/lib/python3.7/site-packages (from matplotlib->visualdl->paddlenlp) (2.4.2)\n",
      "Requirement already satisfied, skipping upgrade: python-dateutil>=2.1 in /opt/conda/envs/python35-paddle120-env/lib/python3.7/site-packages (from matplotlib->visualdl->paddlenlp) (2.8.0)\n",
      "Requirement already satisfied, skipping upgrade: cycler>=0.10 in /opt/conda/envs/python35-paddle120-env/lib/python3.7/site-packages (from matplotlib->visualdl->paddlenlp) (0.10.0)\n",
      "Requirement already satisfied, skipping upgrade: kiwisolver>=1.0.1 in /opt/conda/envs/python35-paddle120-env/lib/python3.7/site-packages (from matplotlib->visualdl->paddlenlp) (1.1.0)\n",
      "Requirement already satisfied, skipping upgrade: pytz in /opt/conda/envs/python35-paddle120-env/lib/python3.7/site-packages (from matplotlib->visualdl->paddlenlp) (2019.3)\n",
      "Requirement already satisfied, skipping upgrade: pyyaml in /opt/conda/envs/python35-paddle120-env/lib/python3.7/site-packages (from pre-commit->visualdl->paddlenlp) (5.1.2)\n",
      "Requirement already satisfied, skipping upgrade: toml in /opt/conda/envs/python35-paddle120-env/lib/python3.7/site-packages (from pre-commit->visualdl->paddlenlp) (0.10.0)\n",
      "Requirement already satisfied, skipping upgrade: cfgv>=2.0.0 in /opt/conda/envs/python35-paddle120-env/lib/python3.7/site-packages (from pre-commit->visualdl->paddlenlp) (2.0.1)\n",
      "Requirement already satisfied, skipping upgrade: nodeenv>=0.11.1 in /opt/conda/envs/python35-paddle120-env/lib/python3.7/site-packages (from pre-commit->visualdl->paddlenlp) (1.3.4)\n",
      "Requirement already satisfied, skipping upgrade: virtualenv>=15.2 in /opt/conda/envs/python35-paddle120-env/lib/python3.7/site-packages (from pre-commit->visualdl->paddlenlp) (16.7.9)\n",
      "Requirement already satisfied, skipping upgrade: identify>=1.0.0 in /opt/conda/envs/python35-paddle120-env/lib/python3.7/site-packages (from pre-commit->visualdl->paddlenlp) (1.4.10)\n",
      "Requirement already satisfied, skipping upgrade: aspy.yaml in /opt/conda/envs/python35-paddle120-env/lib/python3.7/site-packages (from pre-commit->visualdl->paddlenlp) (1.3.0)\n",
      "Requirement already satisfied, skipping upgrade: importlib-metadata; python_version < \"3.8\" in /opt/conda/envs/python35-paddle120-env/lib/python3.7/site-packages (from pre-commit->visualdl->paddlenlp) (0.23)\n",
      "Requirement already satisfied, skipping upgrade: Babel>=2.3 in /opt/conda/envs/python35-paddle120-env/lib/python3.7/site-packages (from Flask-Babel>=1.0.0->visualdl->paddlenlp) (2.8.0)\n",
      "Requirement already satisfied, skipping upgrade: future>=0.6.0 in /opt/conda/envs/python35-paddle120-env/lib/python3.7/site-packages (from bce-python-sdk->visualdl->paddlenlp) (0.18.0)\n",
      "Requirement already satisfied, skipping upgrade: pycryptodome>=3.8.0 in /opt/conda/envs/python35-paddle120-env/lib/python3.7/site-packages (from bce-python-sdk->visualdl->paddlenlp) (3.9.9)\n",
      "Requirement already satisfied, skipping upgrade: pyflakes<2.3.0,>=2.2.0 in /opt/conda/envs/python35-paddle120-env/lib/python3.7/site-packages (from flake8>=3.7.9->visualdl->paddlenlp) (2.2.0)\n",
      "Requirement already satisfied, skipping upgrade: pycodestyle<2.7.0,>=2.6.0a1 in /opt/conda/envs/python35-paddle120-env/lib/python3.7/site-packages (from flake8>=3.7.9->visualdl->paddlenlp) (2.6.0)\n",
      "Requirement already satisfied, skipping upgrade: mccabe<0.7.0,>=0.6.0 in /opt/conda/envs/python35-paddle120-env/lib/python3.7/site-packages (from flake8>=3.7.9->visualdl->paddlenlp) (0.6.1)\n",
      "Requirement already satisfied, skipping upgrade: MarkupSafe>=0.23 in /opt/conda/envs/python35-paddle120-env/lib/python3.7/site-packages (from Jinja2>=2.10.1->flask>=1.1.1->visualdl->paddlenlp) (1.1.1)\n",
      "Requirement already satisfied, skipping upgrade: setuptools in /opt/conda/envs/python35-paddle120-env/lib/python3.7/site-packages (from kiwisolver>=1.0.1->matplotlib->visualdl->paddlenlp) (56.2.0)\n",
      "Requirement already satisfied, skipping upgrade: zipp>=0.5 in /opt/conda/envs/python35-paddle120-env/lib/python3.7/site-packages (from importlib-metadata; python_version < \"3.8\"->pre-commit->visualdl->paddlenlp) (0.6.0)\n",
      "Requirement already satisfied, skipping upgrade: more-itertools in /opt/conda/envs/python35-paddle120-env/lib/python3.7/site-packages (from zipp>=0.5->importlib-metadata; python_version < \"3.8\"->pre-commit->visualdl->paddlenlp) (7.2.0)\n",
      "Installing collected packages: paddlenlp\n",
      "  Found existing installation: paddlenlp 2.0.1\n",
      "    Uninstalling paddlenlp-2.0.1:\n",
      "      Successfully uninstalled paddlenlp-2.0.1\n",
      "Successfully installed paddlenlp-2.0.6\n"
     ]
    }
   ],
   "source": [
    "!pip install -U paddlenlp"
   ]
  },
  {
   "cell_type": "markdown",
   "metadata": {},
   "source": [
    "## 1.解压数据"
   ]
  },
  {
   "cell_type": "code",
   "execution_count": 2,
   "metadata": {},
   "outputs": [
    {
     "name": "stdout",
     "output_type": "stream",
     "text": [
      "submission.csv\n",
      "商品信息.csv\n",
      "商品类别列表.csv\n",
      "测试集.csv\n",
      "训练集.csv\n"
     ]
    }
   ],
   "source": [
    "!tar -xvf data/data96333/商品评论情感预测.gz"
   ]
  },
  {
   "cell_type": "markdown",
   "metadata": {},
   "source": [
    "## 2.查看数据"
   ]
  },
  {
   "cell_type": "code",
   "execution_count": 3,
   "metadata": {},
   "outputs": [
    {
     "name": "stdout",
     "output_type": "stream",
     "text": [
      "id\ttext\tlabel\r\n",
      "TRAIN_0\t刚到!!!!!!!!。刚刚收到,2天我晕,一般快递最快到我们这要3天呢,赞个!!!   包装台简单了,说明书看不懂。 瓶子半透明。   问了官方,说卓越也是他们的合作伙伴,正品放心。\t4.0\r\n",
      "TRAIN_1\t很好的一本书。不过这本书没有赠送什么代金券。体现不出以前的正版图书送网站学习代金券的特点。\t5.0\r\n",
      "TRAIN_2\t二手手机。很负责任的说一句,亚马逊给我发过来的手机绝对是二手的!!\t1.0\r\n",
      "TRAIN_3\t送的光盘不行。这本书内容很好,就是送的光盘不行。这次重新订购了一套,期望发过来的光盘能用\t4.0\r\n",
      "TRAIN_4\t很实用。很实用的一本书,非常喜欢!\t5.0\r\n",
      "TRAIN_5\t关于书籍的包装。书籍本身没有问题,货物的包装实在不敢恭维。不知出于何种考虑,先前的纸盒包装现在换成了塑料袋,拍下的两本精装书拿到手居然卷了边,超级郁闷。以此种方式来降低成本,实在不足取。省下的只是仨瓜俩枣,失去的却是人们的信任。\t4.0\r\n",
      "TRAIN_6\t挺好的。包装很好,内容也不错\t4.0\r\n",
      "TRAIN_7\t便宜点最好了。希望能尽快便宜一些!\t4.0\r\n",
      "TRAIN_8\t物流 包装 一如既往。对于自主游玩川渝还是很有帮助的\t5.0\r\n"
     ]
    }
   ],
   "source": [
    "!head 训练集.csv"
   ]
  },
  {
   "cell_type": "code",
   "execution_count": 4,
   "metadata": {},
   "outputs": [
    {
     "name": "stdout",
     "output_type": "stream",
     "text": [
      "id\ttext\r\n",
      "TEST_0\t东西不错。大三元之一 东西看上去不错,包装也都很好,关键是价格比京东便宜很多。 还没试过,回去试一下。 不足是不能开增票。比较遗憾\r\n",
      "TEST_1\t这么丰富的经历没写出来。这么丰富的经历没写出来,对于我们以后上哪玩挺有帮助,作为游记一般吧。\r\n",
      "TEST_2\t很喜欢 支持离歌 支持饶雪漫~~。很喜欢 支持离歌 支持饶雪漫~~\r\n",
      "TEST_3\t内容空洞,不值得买。内容很空洞,有炫富意味,其它的倒还真没看出什么所以然来。很后悔买了这本书。完全想废纸一样。\r\n",
      "TEST_4\t爱自己多一点。这个书的内容总的来说不错的,书名有点夸张,但看了内容后,发现真的很实实在在的,一点也不夸大。本人特别喜欢后面部分关于鼓舞的内容。一个女人天生长得美人见人爱,而长得不好看的有很多人都自卑,于是总想方设法运用各种化妆品来装饰自己,以此来让别人喜欢自己。看了这个书的内容,很感动,并不是说她的观点如何的好,而是这样的观点出在减肥书上,不漂亮没关系,对自己自信一点,对周围的人更关心一点,你也可以由内而外变得越来越美丽,每天给自己一个小小的肯定,对自己说OK。\r\n",
      "TEST_5\t易懂,好用。程博士写的书易懂好用!\r\n",
      "TEST_6\t火机油。收到时外包装没问题,但奇怪的是里面瓶身上角有些挤变形了,还好没破,没有泄漏。除去包装外,满意。\r\n",
      "TEST_7\t不错的书。不错的书,价格合适,质量还行\r\n",
      "TEST_8\t翻译它最大。很喜欢里面的翻译讲解,用四步定位来解决每一个翻译题,屡试屡爽!\r\n"
     ]
    }
   ],
   "source": [
    "!head 测试集.csv"
   ]
  },
  {
   "cell_type": "code",
   "execution_count": 5,
   "metadata": {},
   "outputs": [
    {
     "name": "stdout",
     "output_type": "stream",
     "text": [
      "数据ID,评分\r\n",
      "TEST_0,1\r\n",
      "TEST_1,1\r\n",
      "TEST_2,1\r\n",
      "TEST_3,1\r\n",
      "TEST_4,1\r\n",
      "TEST_5,1\r\n",
      "TEST_6,1\r\n",
      "TEST_7,1\r\n",
      "TEST_8,1\r\n"
     ]
    }
   ],
   "source": [
    "!head submission.csv"
   ]
  },
  {
   "cell_type": "markdown",
   "metadata": {},
   "source": [
    "## 3.重写read方法读取自定义数据集"
   ]
  },
  {
   "cell_type": "code",
   "execution_count": 67,
   "metadata": {},
   "outputs": [
    {
     "data": {
      "text/html": [
       "<div>\n",
       "<style scoped>\n",
       "    .dataframe tbody tr th:only-of-type {\n",
       "        vertical-align: middle;\n",
       "    }\n",
       "\n",
       "    .dataframe tbody tr th {\n",
       "        vertical-align: top;\n",
       "    }\n",
       "\n",
       "    .dataframe thead th {\n",
       "        text-align: right;\n",
       "    }\n",
       "</style>\n",
       "<table border=\"1\" class=\"dataframe\">\n",
       "  <thead>\n",
       "    <tr style=\"text-align: right;\">\n",
       "      <th></th>\n",
       "      <th>数据ID</th>\n",
       "      <th>用户ID</th>\n",
       "      <th>商品ID</th>\n",
       "      <th>评论时间戳</th>\n",
       "      <th>评论标题</th>\n",
       "      <th>评论内容</th>\n",
       "      <th>评分</th>\n",
       "    </tr>\n",
       "  </thead>\n",
       "  <tbody>\n",
       "    <tr>\n",
       "      <th>0</th>\n",
       "      <td>TRAIN_0</td>\n",
       "      <td>300212.0</td>\n",
       "      <td>PRODUCT_60357</td>\n",
       "      <td>1282579200</td>\n",
       "      <td>刚到!!!!!!!!</td>\n",
       "      <td>刚刚收到,2天我晕,一般快递最快到我们这要3天呢,赞个!!!   包装台简单了,说明书看不懂...</td>\n",
       "      <td>4.0</td>\n",
       "    </tr>\n",
       "    <tr>\n",
       "      <th>1</th>\n",
       "      <td>TRAIN_1</td>\n",
       "      <td>213838.0</td>\n",
       "      <td>PRODUCT_354315</td>\n",
       "      <td>1305561600</td>\n",
       "      <td>很好的一本书</td>\n",
       "      <td>不过这本书没有赠送什么代金券。体现不出以前的正版图书送网站学习代金券的特点。</td>\n",
       "      <td>5.0</td>\n",
       "    </tr>\n",
       "    <tr>\n",
       "      <th>2</th>\n",
       "      <td>TRAIN_2</td>\n",
       "      <td>1045492.0</td>\n",
       "      <td>PRODUCT_192005</td>\n",
       "      <td>1357747200</td>\n",
       "      <td>二手手机</td>\n",
       "      <td>很负责任的说一句,亚马逊给我发过来的手机绝对是二手的!!</td>\n",
       "      <td>1.0</td>\n",
       "    </tr>\n",
       "    <tr>\n",
       "      <th>3</th>\n",
       "      <td>TRAIN_3</td>\n",
       "      <td>587784.0</td>\n",
       "      <td>PRODUCT_1531</td>\n",
       "      <td>1305129600</td>\n",
       "      <td>送的光盘不行</td>\n",
       "      <td>这本书内容很好,就是送的光盘不行。这次重新订购了一套,期望发过来的光盘能用</td>\n",
       "      <td>4.0</td>\n",
       "    </tr>\n",
       "    <tr>\n",
       "      <th>4</th>\n",
       "      <td>TRAIN_4</td>\n",
       "      <td>1244067.0</td>\n",
       "      <td>PRODUCT_324528</td>\n",
       "      <td>1285689600</td>\n",
       "      <td>很实用</td>\n",
       "      <td>很实用的一本书,非常喜欢!</td>\n",
       "      <td>5.0</td>\n",
       "    </tr>\n",
       "  </tbody>\n",
       "</table>\n",
       "</div>"
      ],
      "text/plain": [
       "      数据ID       用户ID            商品ID       评论时间戳        评论标题  \\\n",
       "0  TRAIN_0   300212.0   PRODUCT_60357  1282579200  刚到!!!!!!!!   \n",
       "1  TRAIN_1   213838.0  PRODUCT_354315  1305561600      很好的一本书   \n",
       "2  TRAIN_2  1045492.0  PRODUCT_192005  1357747200        二手手机   \n",
       "3  TRAIN_3   587784.0    PRODUCT_1531  1305129600      送的光盘不行   \n",
       "4  TRAIN_4  1244067.0  PRODUCT_324528  1285689600         很实用   \n",
       "\n",
       "                                                评论内容   评分  \n",
       "0  刚刚收到,2天我晕,一般快递最快到我们这要3天呢,赞个!!!   包装台简单了,说明书看不懂...  4.0  \n",
       "1             不过这本书没有赠送什么代金券。体现不出以前的正版图书送网站学习代金券的特点。  5.0  \n",
       "2                       很负责任的说一句,亚马逊给我发过来的手机绝对是二手的!!  1.0  \n",
       "3              这本书内容很好,就是送的光盘不行。这次重新订购了一套,期望发过来的光盘能用  4.0  \n",
       "4                                      很实用的一本书,非常喜欢!  5.0  "
      ]
     },
     "execution_count": 67,
     "metadata": {},
     "output_type": "execute_result"
    }
   ],
   "source": [
    "import numpy as np\n",
    "import pandas as pd\n",
    "train_df = pd.read_csv(\"训练集.csv\")\n",
    "train_df.head(5)\n"
   ]
  },
  {
   "cell_type": "code",
   "execution_count": 68,
   "metadata": {},
   "outputs": [
    {
     "data": {
      "text/html": [
       "<div>\n",
       "<style scoped>\n",
       "    .dataframe tbody tr th:only-of-type {\n",
       "        vertical-align: middle;\n",
       "    }\n",
       "\n",
       "    .dataframe tbody tr th {\n",
       "        vertical-align: top;\n",
       "    }\n",
       "\n",
       "    .dataframe thead th {\n",
       "        text-align: right;\n",
       "    }\n",
       "</style>\n",
       "<table border=\"1\" class=\"dataframe\">\n",
       "  <thead>\n",
       "    <tr style=\"text-align: right;\">\n",
       "      <th></th>\n",
       "      <th>id</th>\n",
       "      <th>text</th>\n",
       "      <th>label</th>\n",
       "    </tr>\n",
       "  </thead>\n",
       "  <tbody>\n",
       "    <tr>\n",
       "      <th>0</th>\n",
       "      <td>TRAIN_0</td>\n",
       "      <td>刚到!!!!!!!!。刚刚收到,2天我晕,一般快递最快到我们这要3天呢,赞个!!!   包装...</td>\n",
       "      <td>4.0</td>\n",
       "    </tr>\n",
       "    <tr>\n",
       "      <th>1</th>\n",
       "      <td>TRAIN_1</td>\n",
       "      <td>很好的一本书。不过这本书没有赠送什么代金券。体现不出以前的正版图书送网站学习代金券的特点。</td>\n",
       "      <td>5.0</td>\n",
       "    </tr>\n",
       "    <tr>\n",
       "      <th>2</th>\n",
       "      <td>TRAIN_2</td>\n",
       "      <td>二手手机。很负责任的说一句,亚马逊给我发过来的手机绝对是二手的!!</td>\n",
       "      <td>1.0</td>\n",
       "    </tr>\n",
       "    <tr>\n",
       "      <th>3</th>\n",
       "      <td>TRAIN_3</td>\n",
       "      <td>送的光盘不行。这本书内容很好,就是送的光盘不行。这次重新订购了一套,期望发过来的光盘能用</td>\n",
       "      <td>4.0</td>\n",
       "    </tr>\n",
       "    <tr>\n",
       "      <th>4</th>\n",
       "      <td>TRAIN_4</td>\n",
       "      <td>很实用。很实用的一本书,非常喜欢!</td>\n",
       "      <td>5.0</td>\n",
       "    </tr>\n",
       "  </tbody>\n",
       "</table>\n",
       "</div>"
      ],
      "text/plain": [
       "        id                                               text  label\n",
       "0  TRAIN_0  刚到!!!!!!!!。刚刚收到,2天我晕,一般快递最快到我们这要3天呢,赞个!!!   包装...    4.0\n",
       "1  TRAIN_1      很好的一本书。不过这本书没有赠送什么代金券。体现不出以前的正版图书送网站学习代金券的特点。    5.0\n",
       "2  TRAIN_2                  二手手机。很负责任的说一句,亚马逊给我发过来的手机绝对是二手的!!    1.0\n",
       "3  TRAIN_3       送的光盘不行。这本书内容很好,就是送的光盘不行。这次重新订购了一套,期望发过来的光盘能用    4.0\n",
       "4  TRAIN_4                                  很实用。很实用的一本书,非常喜欢!    5.0"
      ]
     },
     "execution_count": 68,
     "metadata": {},
     "output_type": "execute_result"
    }
   ],
   "source": [
    "train_df['text'] = train_df['评论标题'] + '。' +train_df['评论内容']\n",
    "train_df['id'] = train_df['数据ID'] \n",
    "train_df['label'] = train_df['评分'] \n",
    "train_data = train_df.loc[:,['id','text','label']]\n",
    "train_data.head()"
   ]
  },
  {
   "cell_type": "code",
   "execution_count": 69,
   "metadata": {},
   "outputs": [],
   "source": [
    "train_data.to_csv('train.csv',sep='\\t',index=False)"
   ]
  },
  {
   "cell_type": "code",
   "execution_count": 70,
   "metadata": {},
   "outputs": [],
   "source": [
    "test_df = pd.read_csv(\"测试集.csv\")\n",
    "test_df['text'] = test_df['评论标题'] + '。' +test_df['评论内容']\n",
    "test_df['id'] = test_df['数据ID'] \n",
    "test_df = test_df.loc[:,['id','text']]\n",
    "test_df.to_csv('test.csv',sep='\\t',index=False)\n"
   ]
  },
  {
   "cell_type": "code",
   "execution_count": 6,
   "metadata": {},
   "outputs": [],
   "source": [
    "from paddlenlp.datasets import load_dataset\n",
    "from paddle.io import Dataset, Subset\n",
    "from paddlenlp.datasets import MapDataset\n",
    "import re\n",
    "\n",
    "\n",
    "# 数据ID,用户ID,商品ID,评论时间戳,评论标题,评论内容,评分\n",
    "def read(data_path):\n",
    "    with open(data_path, 'r', encoding='utf-8') as in_f:\n",
    "        next(in_f)\n",
    "        for line in in_f:\n",
    "            line = line.strip('\\n')\n",
    "            split_array = line.split('\\t')\n",
    "            id = split_array[0]    \n",
    "            text = split_array[1]\n",
    "            label = split_array[2]\n",
    "            yield {'text': text, 'label': str(int(label.split('.')[0])-1), 'qid': id}\n",
    "\n",
    "# 数据ID,用户ID,商品ID,评论时间戳,评论标题,评论内容\n",
    "def read_test(data_path):\n",
    "    with open(data_path, 'r', encoding='utf-8') as in_f:\n",
    "        next(in_f)\n",
    "        for line in in_f:\n",
    "            line = line.strip('\\n')\n",
    "            split_array = line.split('\\t')\n",
    "            id = split_array[0] \n",
    "            id=id.split('_')[-1]\n",
    "            text = split_array[1]\n",
    "            label= '1'\n",
    "            yield {'text': text, 'label': label, 'qid': id}"
   ]
  },
  {
   "cell_type": "markdown",
   "metadata": {},
   "source": [
    "## 4.训练集载入"
   ]
  },
  {
   "cell_type": "code",
   "execution_count": 25,
   "metadata": {},
   "outputs": [],
   "source": [
    "import random\n",
    "\n",
    "# data_path为read()方法的参数\n",
    "dataset_ds = load_dataset(read, data_path='train.csv',lazy=False)\n",
    "num = range(0, len(dataset_ds))\n",
    "\n",
    "#将训练集与验证集7：3划分\n",
    "train_index = (random.sample(num, int(0.7*(len(dataset_ds)))))\n",
    "train_ds = Subset(dataset=dataset_ds, indices=train_index)\n",
    "dev_ds = Subset(dataset=dataset_ds, indices=[i for i in range(len(dataset_ds)) if i not in train_index])\n",
    "\n",
    "test_ds =  load_dataset(read_test, data_path='test.csv',lazy=False)"
   ]
  },
  {
   "cell_type": "code",
   "execution_count": 26,
   "metadata": {},
   "outputs": [
    {
     "name": "stdout",
     "output_type": "stream",
     "text": [
      "{'text': '东西不错。大三元之一 东西看上去不错,包装也都很好,关键是价格比京东便宜很多。 还没试过,回去试一下。 不足是不能开增票。比较遗憾', 'label': '1', 'qid': '0'}\n",
      "{'text': '这么丰富的经历没写出来。这么丰富的经历没写出来,对于我们以后上哪玩挺有帮助,作为游记一般吧。', 'label': '1', 'qid': '1'}\n",
      "{'text': '很喜欢 支持离歌 支持饶雪漫~~。很喜欢 支持离歌 支持饶雪漫~~', 'label': '1', 'qid': '2'}\n",
      "{'text': '内容空洞,不值得买。内容很空洞,有炫富意味,其它的倒还真没看出什么所以然来。很后悔买了这本书。完全想废纸一样。', 'label': '1', 'qid': '3'}\n",
      "{'text': '爱自己多一点。这个书的内容总的来说不错的,书名有点夸张,但看了内容后,发现真的很实实在在的,一点也不夸大。本人特别喜欢后面部分关于鼓舞的内容。一个女人天生长得美人见人爱,而长得不好看的有很多人都自卑,于是总想方设法运用各种化妆品来装饰自己,以此来让别人喜欢自己。看了这个书的内容,很感动,并不是说她的观点如何的好,而是这样的观点出在减肥书上,不漂亮没关系,对自己自信一点,对周围的人更关心一点,你也可以由内而外变得越来越美丽,每天给自己一个小小的肯定,对自己说OK。', 'label': '1', 'qid': '4'}\n",
      "{'text': '易懂,好用。程博士写的书易懂好用!', 'label': '1', 'qid': '5'}\n",
      "{'text': '火机油。收到时外包装没问题,但奇怪的是里面瓶身上角有些挤变形了,还好没破,没有泄漏。除去包装外,满意。', 'label': '1', 'qid': '6'}\n",
      "{'text': '不错的书。不错的书,价格合适,质量还行', 'label': '1', 'qid': '7'}\n",
      "{'text': '翻译它最大。很喜欢里面的翻译讲解,用四步定位来解决每一个翻译题,屡试屡爽!', 'label': '1', 'qid': '8'}\n",
      "{'text': '吊丝女自强指南?。是不是看这种书的女人都是每人爱的剩女?恐龙?凭一本书真的就能改变命运吗?', 'label': '1', 'qid': '9'}\n"
     ]
    }
   ],
   "source": [
    "for i in range(10):\n",
    "    print(test_ds[i])"
   ]
  },
  {
   "cell_type": "code",
   "execution_count": 27,
   "metadata": {},
   "outputs": [
    {
     "name": "stdout",
     "output_type": "stream",
     "text": [
      "{'text': '还行!。很感动。很值得作为父母的看看', 'label': '3', 'qid': 'TRAIN_11096'}\n",
      "{'text': '很好的书。挺快的,书也很好,比较实惠,好评', 'label': '4', 'qid': 'TRAIN_19102'}\n",
      "{'text': '漂亮。发货超快!质量超好!相当不错!', 'label': '4', 'qid': 'TRAIN_14562'}\n",
      "{'text': '还不错。还算不错吧,就是照相机很容易发虚,性价比还算不错!定制软件有点多!三天使用心得!亚马逊发货挺快夸一下!顶了!!!', 'label': '3', 'qid': 'TRAIN_3985'}\n",
      "{'text': '中等偏下吧。小开本,封面也还可以,可是字很小很小,如果准备精读的同学,还是换点好,会影响你的阅读舒适度,还有一股很浓的味道。。。', 'label': '2', 'qid': 'TRAIN_62086'}\n"
     ]
    }
   ],
   "source": [
    "for i in range(5):\n",
    "    print(train_ds[i])"
   ]
  },
  {
   "cell_type": "code",
   "execution_count": 28,
   "metadata": {},
   "outputs": [
    {
     "name": "stdout",
     "output_type": "stream",
     "text": [
      "{'text': '这本是配套练习。。书应该和配套教材搭起来卖就好了。配套的光盘在教材的那本书里。不过书本身的质量很不错。', 'label': '2', 'qid': 'TRAIN_12'}\n",
      "{'text': '挺好的。把它送给外甥女,希望喜欢', 'label': '4', 'qid': 'TRAIN_14'}\n",
      "{'text': '不行的~。都很想退货了, 书的内容蛮无趣不如盗墓笔不说, 错字看的人头疼,不可能是正版吧~记', 'label': '1', 'qid': 'TRAIN_15'}\n",
      "{'text': '印刷质量很好!。DK系列的书以及买了一本百科,比较的写实。对于年龄较小的孩子来说,适合和大人一起看。图片都不错,印刷都很精美。将来孩子会不会喜欢呢?会的吧!嘻嘻。。。卓越的服务不错,虽然有时不尽如意,但是,应该是很努力了,谢谢!会继续支持!', 'label': '4', 'qid': 'TRAIN_23'}\n",
      "{'text': '好。这戏很有吸引力,故事真实,内容很悬.加上一批好演员,真的无限可击', 'label': '4', 'qid': 'TRAIN_28'}\n"
     ]
    }
   ],
   "source": [
    "for i in range(5):\n",
    "    print(dev_ds[i])"
   ]
  },
  {
   "cell_type": "code",
   "execution_count": 29,
   "metadata": {},
   "outputs": [
    {
     "name": "stdout",
     "output_type": "stream",
     "text": [
      "49000\n",
      "21000\n",
      "30000\n"
     ]
    }
   ],
   "source": [
    "# 在转换为MapDataset类型\n",
    "train_ds = MapDataset(train_ds)\n",
    "dev_ds = MapDataset(dev_ds)\n",
    "test_ds = MapDataset(test_ds)\n",
    "print(len(train_ds))\n",
    "print(len(dev_ds))\n",
    "print(len(test_ds))"
   ]
  },
  {
   "cell_type": "markdown",
   "metadata": {},
   "source": [
    "#  三、SKEP模型加载\n",
    "![](https://ai-studio-static-online.cdn.bcebos.com/1a4b76447dae404caa3bf123ea28e375179cb09a02de4bef8a2f172edc6e3c8f)"
   ]
  },
  {
   "cell_type": "code",
   "execution_count": 31,
   "metadata": {},
   "outputs": [
    {
     "name": "stderr",
     "output_type": "stream",
     "text": [
      "[2021-07-26 12:20:50,063] [    INFO] - Downloading https://paddlenlp.bj.bcebos.com/models/transformers/skep/skep_ernie_1.0_large_ch.pdparams and saved to /home/aistudio/.paddlenlp/models/skep_ernie_1.0_large_ch\n",
      "[2021-07-26 12:20:50,070] [    INFO] - Downloading skep_ernie_1.0_large_ch.pdparams from https://paddlenlp.bj.bcebos.com/models/transformers/skep/skep_ernie_1.0_large_ch.pdparams\n",
      "100%|██████████| 1238309/1238309 [00:17<00:00, 72201.14it/s]\n",
      "[2021-07-26 12:21:17,827] [    INFO] - Downloading skep_ernie_1.0_large_ch.vocab.txt from https://paddlenlp.bj.bcebos.com/models/transformers/skep/skep_ernie_1.0_large_ch.vocab.txt\n",
      "100%|██████████| 55/55 [00:00<00:00, 2915.58it/s]\n"
     ]
    }
   ],
   "source": [
    "# 指定模型名称一键加载模型\n",
    "from paddlenlp.transformers import SkepForSequenceClassification, SkepTokenizer\n",
    "\n",
    "model = SkepForSequenceClassification.from_pretrained(\n",
    "    'skep_ernie_1.0_large_ch', num_classes=  5)\n",
    "# 指定模型名称一键加载tokenizer\n",
    "tokenizer = SkepTokenizer.from_pretrained('skep_ernie_1.0_large_ch')"
   ]
  },
  {
   "cell_type": "markdown",
   "metadata": {},
   "source": [
    "# 四、数据NLP特征处理"
   ]
  },
  {
   "cell_type": "code",
   "execution_count": 32,
   "metadata": {},
   "outputs": [],
   "source": [
    "import os\n",
    "from functools import partial\n",
    "\n",
    "\n",
    "import numpy as np\n",
    "import paddle\n",
    "import paddle.nn.functional as F\n",
    "from paddlenlp.data import Stack, Tuple, Pad\n",
    "\n",
    "from utils import create_dataloader\n",
    "\n",
    "def convert_example(example,\n",
    "                    tokenizer,\n",
    "                    max_seq_length=512,\n",
    "                    is_test=False):\n",
    "   \n",
    "    # 将原数据处理成model可读入的格式，enocded_inputs是一个dict，包含input_ids、token_type_ids等字段\n",
    "    encoded_inputs = tokenizer(\n",
    "        text=example[\"text\"], max_seq_len=max_seq_length)\n",
    "\n",
    "    # input_ids：对文本切分token后，在词汇表中对应的token id\n",
    "    input_ids = encoded_inputs[\"input_ids\"]\n",
    "    # token_type_ids：当前token属于句子1还是句子2，即上述图中表达的segment ids\n",
    "    token_type_ids = encoded_inputs[\"token_type_ids\"]\n",
    "\n",
    "    if not is_test:\n",
    "        # label：情感极性类别\n",
    "        label = np.array([example[\"label\"]], dtype=\"int64\")\n",
    "        return input_ids, token_type_ids, label\n",
    "    else:\n",
    "        # qid：每条数据的编号\n",
    "        qid = np.array([example[\"qid\"]], dtype=\"int64\")\n",
    "        return input_ids, token_type_ids, qid"
   ]
  },
  {
   "cell_type": "code",
   "execution_count": 33,
   "metadata": {},
   "outputs": [],
   "source": [
    "from utils import create_dataloader\n",
    "# 处理的最大文本序列长度\n",
    "max_seq_length=256\n",
    "# 批量数据大小\n",
    "batch_size=16\n",
    "\n",
    "# 将数据处理成模型可读入的数据格式\n",
    "trans_func = partial(\n",
    "    convert_example,\n",
    "    tokenizer=tokenizer,\n",
    "    max_seq_length=max_seq_length)\n",
    "\n",
    "# 将数据组成批量式数据，如\n",
    "# 将不同长度的文本序列padding到批量式数据中最大长度\n",
    "# 将每条数据label堆叠在一起\n",
    "batchify_fn = lambda samples, fn=Tuple(\n",
    "    Pad(axis=0, pad_val=tokenizer.pad_token_id),  # input_ids\n",
    "    Pad(axis=0, pad_val=tokenizer.pad_token_type_id),  # token_type_ids\n",
    "    Stack()  # labels\n",
    "): [data for data in fn(samples)]\n",
    "train_data_loader = create_dataloader(\n",
    "    train_ds,\n",
    "    mode='train',\n",
    "    batch_size=batch_size,\n",
    "    batchify_fn=batchify_fn,\n",
    "    trans_fn=trans_func)\n",
    "dev_data_loader = create_dataloader(\n",
    "    dev_ds,\n",
    "    mode='dev',\n",
    "    batch_size=batch_size,\n",
    "    batchify_fn=batchify_fn,\n",
    "    trans_fn=trans_func)"
   ]
  },
  {
   "cell_type": "markdown",
   "metadata": {},
   "source": [
    "# 五、模型训练"
   ]
  },
  {
   "cell_type": "markdown",
   "metadata": {},
   "source": [
    "## 1.训练准备"
   ]
  },
  {
   "cell_type": "code",
   "execution_count": 34,
   "metadata": {},
   "outputs": [],
   "source": [
    "import time\n",
    "\n",
    "from utils import evaluate\n",
    "\n",
    "# 训练轮次\n",
    "epochs = 3\n",
    "# 训练过程中保存模型参数的文件夹\n",
    "ckpt_dir = \"skep_ckpt\"\n",
    "# len(train_data_loader)一轮训练所需要的step数\n",
    "num_training_steps = len(train_data_loader) * epochs\n",
    "\n",
    "# Adam优化器\n",
    "optimizer = paddle.optimizer.AdamW(\n",
    "    learning_rate=2e-5,\n",
    "    parameters=model.parameters())\n",
    "# 交叉熵损失函数\n",
    "criterion = paddle.nn.loss.CrossEntropyLoss()\n",
    "# accuracy评价指标\n",
    "metric = paddle.metric.Accuracy()"
   ]
  },
  {
   "cell_type": "markdown",
   "metadata": {},
   "source": [
    "## 2.开始训练"
   ]
  },
  {
   "cell_type": "code",
   "execution_count": 35,
   "metadata": {},
   "outputs": [
    {
     "name": "stdout",
     "output_type": "stream",
     "text": [
      "global step 9180, epoch: 3, batch: 3054, loss: 0.98694, accu: 0.74687, speed: 2.27 step/s\r"
     ]
    }
   ],
   "source": [
    "# 开启训练\n",
    "\n",
    "# 加入日志显示\n",
    "from visualdl import LogWriter\n",
    "\n",
    "writer = LogWriter(\"./log\")\n",
    "best_val_acc=0\n",
    "global_step = 0\n",
    "tic_train = time.time()\n",
    "for epoch in range(1, epochs + 1):\n",
    "    for step, batch in enumerate(train_data_loader, start=1):\n",
    "        input_ids, token_type_ids, labels = batch\n",
    "        # 喂数据给model\n",
    "        logits = model(input_ids, token_type_ids)\n",
    "        # 计算损失函数值\n",
    "        loss = criterion(logits, labels)\n",
    "        # 预测分类概率值\n",
    "        probs = F.softmax(logits, axis=1)\n",
    "        # 计算acc\n",
    "        correct = metric.compute(probs, labels)\n",
    "        metric.update(correct)\n",
    "        acc = metric.accumulate()\n",
    "\n",
    "        global_step += 1\n",
    "        if global_step % 10 == 0:\n",
    "            print(\n",
    "                \"global step %d, epoch: %d, batch: %d, loss: %.5f, accu: %.5f, speed: %.2f step/s\"\n",
    "                % (global_step, epoch, step, loss, acc,\n",
    "                    10 / (time.time() - tic_train)))\n",
    "            tic_train = time.time()\n",
    "        \n",
    "        # 反向梯度回传，更新参数\n",
    "        loss.backward()\n",
    "        optimizer.step()\n",
    "        optimizer.clear_grad()\n",
    "\n",
    "        if global_step % 100 == 0:\n",
    "            # 评估当前训练的模型\n",
    "            eval_loss, eval_accu = evaluate(model, criterion, metric, dev_data_loader)\n",
    "            print(\"eval  on dev  loss: {:.8}, accu: {:.8}\".format(eval_loss, eval_accu))\n",
    "            # 加入eval日志显示\n",
    "            writer.add_scalar(tag=\"eval/loss\", step=global_step, value=eval_loss)\n",
    "            writer.add_scalar(tag=\"eval/acc\", step=global_step, value=eval_accu)\n",
    "            # 加入train日志显示\n",
    "            writer.add_scalar(tag=\"train/loss\", step=global_step, value=loss)\n",
    "            writer.add_scalar(tag=\"train/acc\", step=global_step, value=acc)\n",
    "            save_dir = \"best_checkpoint\"\n",
    "            # 加入保存       \n",
    "            if eval_accu>best_val_acc:\n",
    "                if not os.path.exists(save_dir):\n",
    "                    os.mkdir(save_dir)\n",
    "                best_val_acc=eval_accu\n",
    "                print(f\"模型保存在 {global_step} 步， 最佳eval准确度为{best_val_acc:.8f}！\")\n",
    "                save_param_path = os.path.join(save_dir, 'best_model.pdparams')\n",
    "                paddle.save(model.state_dict(), save_param_path)\n",
    "                fh = open('best_checkpoint/best_model.txt', 'w', encoding='utf-8')\n",
    "                fh.write(f\"模型保存在 {global_step} 步， 最佳eval准确度为{best_val_acc:.8f}！\")\n",
    "                fh.close()"
   ]
  },
  {
   "cell_type": "markdown",
   "metadata": {},
   "source": [
    "# 六、预测提交结果"
   ]
  },
  {
   "cell_type": "markdown",
   "metadata": {},
   "source": [
    "## 1.测试数据集处理"
   ]
  },
  {
   "cell_type": "code",
   "execution_count": 36,
   "metadata": {},
   "outputs": [],
   "source": [
    "import numpy as np\n",
    "import paddle\n",
    "\n",
    "# 处理测试集数据\n",
    "trans_func = partial(\n",
    "    convert_example,\n",
    "    tokenizer=tokenizer,\n",
    "    max_seq_length=max_seq_length,\n",
    "    is_test=True)\n",
    "batchify_fn = lambda samples, fn=Tuple(\n",
    "    Pad(axis=0, pad_val=tokenizer.pad_token_id),  # input\n",
    "    Pad(axis=0, pad_val=tokenizer.pad_token_type_id),  # segment\n",
    "    Stack() # qid\n",
    "): [data for data in fn(samples)]\n",
    "test_data_loader = create_dataloader(\n",
    "    test_ds,\n",
    "    mode='test',\n",
    "    batch_size=batch_size,\n",
    "    batchify_fn=batchify_fn,\n",
    "    trans_fn=trans_func)"
   ]
  },
  {
   "cell_type": "markdown",
   "metadata": {},
   "source": [
    "## 2.加载预测模型"
   ]
  },
  {
   "cell_type": "code",
   "execution_count": 37,
   "metadata": {},
   "outputs": [
    {
     "name": "stdout",
     "output_type": "stream",
     "text": [
      "Loaded parameters from best_checkpoint/best_model.pdparams\n"
     ]
    }
   ],
   "source": [
    "# 根据实际运行情况，更换加载的参数路径\n",
    "params_path = 'best_checkpoint/best_model.pdparams'\n",
    "if params_path and os.path.isfile(params_path):\n",
    "    # 加载模型参数\n",
    "    state_dict = paddle.load(params_path)\n",
    "    model.set_dict(state_dict)\n",
    "    print(\"Loaded parameters from %s\" % params_path)"
   ]
  },
  {
   "cell_type": "markdown",
   "metadata": {},
   "source": [
    "## 3.开始预测"
   ]
  },
  {
   "cell_type": "code",
   "execution_count": 38,
   "metadata": {},
   "outputs": [],
   "source": [
    "# 处理测试集数据\n",
    "label_map = {0: '1', 1:'2', 2:'3', 3:'4',4:'5'}\n",
    "results = []\n",
    "# 切换model模型为评估模式，关闭dropout等随机因素\n",
    "model.eval()\n",
    "for batch in test_data_loader:\n",
    "    input_ids, token_type_ids, qids = batch\n",
    "    # 喂数据给模型\n",
    "    logits = model(input_ids, token_type_ids)\n",
    "    # 预测分类\n",
    "    probs = F.softmax(logits, axis=-1)\n",
    "    idx = paddle.argmax(probs, axis=1).numpy()\n",
    "    idx = idx.tolist()\n",
    "    labels = [label_map[i] for i in idx]\n",
    "    qids = qids.numpy().tolist()\n",
    "    results.extend(zip(qids, labels))"
   ]
  },
  {
   "cell_type": "markdown",
   "metadata": {},
   "source": [
    "## 4.保存结果\n",
    "根据官网要求写入文件（注意：此处数据集给的submission.csv并不对，严格按照官网来）"
   ]
  },
  {
   "cell_type": "code",
   "execution_count": 39,
   "metadata": {},
   "outputs": [],
   "source": [
    "# 写入预测结果\n",
    "with open( \"submission.csv\", 'w', encoding=\"utf-8\") as f:\n",
    "    # f.write(\"数据ID,评分\\n\")\n",
    "    f.write(\"id,score\\n\")\n",
    "\n",
    "    for (idx, label) in results:\n",
    "        f.write('TEST_'+str(idx[0])+\",\"+label+\"\\n\")"
   ]
  },
  {
   "cell_type": "markdown",
   "metadata": {},
   "source": [
    "## 5.检查结果"
   ]
  },
  {
   "cell_type": "code",
   "execution_count": 40,
   "metadata": {},
   "outputs": [
    {
     "name": "stdout",
     "output_type": "stream",
     "text": [
      "id,score\r\n",
      "TEST_0,5\r\n",
      "TEST_1,4\r\n",
      "TEST_2,5\r\n",
      "TEST_3,1\r\n",
      "TEST_4,5\r\n",
      "TEST_5,5\r\n",
      "TEST_6,5\r\n",
      "TEST_7,5\r\n",
      "TEST_8,5\r\n"
     ]
    }
   ],
   "source": [
    "!head submission.csv"
   ]
  },
  {
   "cell_type": "code",
   "execution_count": 41,
   "metadata": {},
   "outputs": [
    {
     "name": "stdout",
     "output_type": "stream",
     "text": [
      "TEST_29990,5\r\n",
      "TEST_29991,5\r\n",
      "TEST_29992,4\r\n",
      "TEST_29993,5\r\n",
      "TEST_29994,4\r\n",
      "TEST_29995,5\r\n",
      "TEST_29996,5\r\n",
      "TEST_29997,5\r\n",
      "TEST_29998,3\r\n",
      "TEST_29999,5\r\n"
     ]
    }
   ],
   "source": [
    "!tail submission.csv"
   ]
  },
  {
   "attachments": {
    "image.png": {
     "image/png": "[encoded data removed]"
    }
   },
   "cell_type": "markdown",
   "metadata": {},
   "source": [
    "## 6.提交\n",
    "\n",
    "取得第1的成绩，如下图：\n",
    "![image.png](attachment:image.png)"
   ]
  },
  {
   "cell_type": "code",
   "execution_count": null,
   "metadata": {},
   "outputs": [],
   "source": []
  }
 ],
 "metadata": {
  "kernelspec": {
   "display_name": "Python 3",
   "language": "python",
   "name": "python3"
  },
  "language_info": {
   "codemirror_mode": {
    "name": "ipython",
    "version": 3
   },
   "file_extension": ".py",
   "mimetype": "text/x-python",
   "name": "python",
   "nbconvert_exporter": "python",
   "pygments_lexer": "ipython3",
   "version": "3.7.6"
  }
 },
 "nbformat": 4,
 "nbformat_minor": 1
}
