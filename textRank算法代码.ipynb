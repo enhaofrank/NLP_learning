{
 "cells": [
  {
   "cell_type": "code",
   "execution_count": 1,
   "metadata": {},
   "outputs": [
    {
     "name": "stdout",
     "output_type": "stream",
     "text": [
      "Collecting textrank4zh\n",
      "  Downloading textrank4zh-0.3.zip (13 kB)\n",
      "Requirement already satisfied: jieba>=0.35 in c:\\users\\hp\\anaconda3\\lib\\site-packages\\jieba-0.42.1-py3.7.egg (from textrank4zh) (0.42.1)\n",
      "Requirement already satisfied: numpy>=1.7.1 in c:\\users\\hp\\anaconda3\\lib\\site-packages (from textrank4zh) (1.18.1)\n",
      "Requirement already satisfied: networkx>=1.9.1 in c:\\users\\hp\\anaconda3\\lib\\site-packages (from textrank4zh) (2.4)\n",
      "Requirement already satisfied: decorator>=4.3.0 in c:\\users\\hp\\anaconda3\\lib\\site-packages (from networkx>=1.9.1->textrank4zh) (4.4.2)\n",
      "Building wheels for collected packages: textrank4zh\n",
      "  Building wheel for textrank4zh (setup.py): started\n",
      "  Building wheel for textrank4zh (setup.py): finished with status 'done'\n",
      "  Created wheel for textrank4zh: filename=textrank4zh-0.3-py3-none-any.whl size=13426 sha256=64e81568d5d14e1eddc5e904eae031932a63b8839baa9b90b753dc6498221351\n",
      "  Stored in directory: c:\\users\\hp\\appdata\\local\\pip\\cache\\wheels\\14\\4e\\2e\\a98380a114c215e21b9220d9ebb73cfa2e4094861d5faaf2ca\n",
      "Successfully built textrank4zh\n",
      "Installing collected packages: textrank4zh\n",
      "Successfully installed textrank4zh-0.3\n"
     ]
    }
   ],
   "source": [
    "https://blog.csdn.net/mouday/article/details/89469583"
   ]
  },
  {
   "cell_type": "code",
   "execution_count": null,
   "metadata": {},
   "outputs": [],
   "source": [
    "from textrank4zh import TextRank4Keyword, TextRank4Sentence\n",
    "import jieba\n",
    "import logging\n",
    "\n",
    "# 取消jieba 的日志输出\n",
    "jieba.setLogLevel(logging.INFO)\n",
    "\n",
    "\n",
    "def get_key_words(text, num=5):\n",
    "    \"\"\"提取关键词\"\"\"\n",
    "    tr4w = TextRank4Keyword()\n",
    "    tr4w.analyze(text, lower=True)\n",
    "    key_words = tr4w.get_keywords(num)\n",
    "    return [item.word for item in key_words]\n",
    "    \n",
    "# 命名 小行星 周先生 天文台 国际\n",
    "\n",
    "\n",
    "def get_summary(text, num=3):\n",
    "    \"\"\"提取摘要\"\"\"\n",
    "    tr4s = TextRank4Sentence()\n",
    "    tr4s.analyze(text=text, lower=True, source='all_filters')\n",
    "    return [item.sentence for item in tr4s.get_key_sentences(num)]\n"
   ]
  },
  {
   "cell_type": "code",
   "execution_count": 40,
   "metadata": {},
   "outputs": [
    {
     "name": "stdout",
     "output_type": "stream",
     "text": [
      "TextRank算法摘要结果：\n",
      "2018 年 10 月 16 日，乐视网信息技术（北京）股份有限公司（以下简称“公 司”或“乐视网”）披露了《关于大股东股份变动的提示公告》（公告编号：2018-161），截止 2018 年 10 月 15 日，贾跃亭先生所持股份较 2018 年 6 月 30 日累计减少 2,201.9128 万股，根据贾跃亭先生方面此前邮件回复，其被司法处置股票用于偿还债务\n",
      "近期，上市公司通过向中国证券登记结算有限责任公司深圳分公司系统查询，获悉持股 5%以上股东贾跃亭先生所持公司股份自上市公司 2018 年 10 月 16日披露《关于大股东股份变动的提示公告》（公告编号：2018-161）后，截止 2019年 1 月 15 日新增累计减持已达公司股份总数的 1%.\n",
      "公司将持续关注贾跃亭先生股份变动情况，及时履行信息披露义务\n"
     ]
    }
   ],
   "source": [
    "from __future__ import print_function\n",
    "\n",
    "import sys\n",
    "try:\n",
    "    reload(sys)\n",
    "    sys.setdefaultencoding('utf-8')\n",
    "except:\n",
    "    pass\n",
    "\n",
    "import codecs\n",
    "from textrank4zh import TextRank4Keyword, TextRank4Sentence\n",
    "\n",
    "text = codecs.open('C:/Users/hp/Desktop/testgg_textRank.txt', 'r', 'utf-8').read()\n",
    "\n",
    "\n",
    "tr4s = TextRank4Sentence()\n",
    "tr4s.analyze(text=text, lower=True, source = 'all_filters')\n",
    "\n",
    "print( 'TextRank算法摘要结果：' )\n",
    "for item in tr4s.get_key_sentences(num=3):\n",
    "    print(item.sentence)"
   ]
  }
 ],
 "metadata": {
  "kernelspec": {
   "display_name": "Python 3",
   "language": "python",
   "name": "python3"
  },
  "language_info": {
   "codemirror_mode": {
    "name": "ipython",
    "version": 3
   },
   "file_extension": ".py",
   "mimetype": "text/x-python",
   "name": "python",
   "nbconvert_exporter": "python",
   "pygments_lexer": "ipython3",
   "version": "3.7.6"
  }
 },
 "nbformat": 4,
 "nbformat_minor": 4
}
